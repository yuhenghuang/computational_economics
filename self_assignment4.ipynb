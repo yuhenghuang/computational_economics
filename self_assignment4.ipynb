{
 "cells": [
  {
   "cell_type": "code",
   "execution_count": 1,
   "metadata": {},
   "outputs": [],
   "source": [
    "import numpy as np\n",
    "import numba\n",
    "import datetime\n",
    "from quantecon.markov.approximation import std_norm_cdf\n",
    "from scipy.linalg import solve\n",
    "import matplotlib.pyplot as plt\n",
    "from interpolation import interp"
   ]
  },
  {
   "cell_type": "code",
   "execution_count": 2,
   "metadata": {},
   "outputs": [],
   "source": [
    "#z_first=qe.markov.approximation.tauchen(rho=0.96,sigma_u=0.045**0.5,m=4,n=18)\n",
    "#z_second=qe.markov.approximation.tauchen(rho=0.96,sigma_u=0.045**0.5,m=6,n=2)\n",
    "\n",
    "\n",
    "def tauchen_customized(rho, sigma_u, m, n, m_max,sigma_y1):\n",
    "    a_bar = m * sigma_u/(1-rho**2)**0.5\n",
    "    y = np.linspace(-a_bar,a_bar, n-2)\n",
    "    y = np.append(-m_max * sigma_u/(1-rho**2)**0.5, y)\n",
    "    y = np.append(y, m_max * sigma_u/(1-rho**2)**0.5)\n",
    "    d_in = y[2] - y[1]\n",
    "    d_bound = y[1] - y[0]\n",
    "    \n",
    "    pie = np.zeros((n,n))\n",
    "    pie_inti = np.zeros(n)\n",
    "    for row in range(n):\n",
    "        pie[row,0]=std_norm_cdf((y[0]-rho*y[row]+d_bound/2)/sigma_u)\n",
    "        pie[row,n-1]=1-std_norm_cdf((y[n-1]-rho*y[row]-d_bound/2)/sigma_u)\n",
    "        \n",
    "        pie[row,1]=std_norm_cdf((y[1]-rho*y[row]+d_in/2)/sigma_u)-std_norm_cdf((y[1]-rho*y[row]-d_bound/2)/sigma_u)\n",
    "        pie[row,n-2]=std_norm_cdf((y[n-2]-rho*y[row]+d_bound/2)/sigma_u)-std_norm_cdf((y[n-2]-rho*y[row]-d_in/2)/sigma_u)\n",
    "        \n",
    "        for col in range(2,n-2):\n",
    "            pie[row,col]=std_norm_cdf((y[col]-rho*y[row]+d_in/2)/sigma_u)-std_norm_cdf((y[col]-rho*y[row]-d_in/2)/sigma_u)\n",
    "    \n",
    "    pie_inti[0]=std_norm_cdf((y[0]+d_bound/2)/sigma_y1)\n",
    "    pie_inti[n-1]=1-std_norm_cdf((y[n-1]-d_bound/2)/sigma_y1)\n",
    "    \n",
    "    pie_inti[1]=std_norm_cdf((y[1]+d_in/2)/sigma_y1)-std_norm_cdf((y[1]-d_bound/2)/sigma_y1)\n",
    "    pie_inti[n-2]=std_norm_cdf((y[n-2]+d_bound/2)/sigma_y1)-std_norm_cdf((y[n-2]-d_in/2)/sigma_y1)\n",
    "    \n",
    "    for i in range(2,n-2):\n",
    "        pie_inti[i]=std_norm_cdf((y[i]+d_in/2)/sigma_y1)-std_norm_cdf((y[i]-d_in/2)/sigma_y1)\n",
    "    \n",
    "    pie = pie / np.sum(pie, axis=1)\n",
    "    pie_inti = pie_inti / np.sum(pie_inti)\n",
    "    \n",
    "    return y, pie, pie_inti"
   ]
  },
  {
   "cell_type": "code",
   "execution_count": 3,
   "metadata": {},
   "outputs": [],
   "source": [
    "grid, pi, pi_inti = tauchen_customized(0.96,0.045**0.5,m=4,n=20,m_max=6, sigma_y1=0.38**0.5)"
   ]
  },
  {
   "cell_type": "code",
   "execution_count": 5,
   "metadata": {},
   "outputs": [
    {
     "data": {
      "text/plain": [
       "array([3.99655642e-10, 1.85574977e-06, 2.39158918e-05, 2.34308017e-04,\n",
       "       1.65515913e-03, 8.43410144e-03, 3.10142450e-02, 8.23302138e-02,\n",
       "       1.57817087e-01, 2.18489113e-01, 2.18489113e-01, 1.57817087e-01,\n",
       "       8.23302138e-02, 3.10142450e-02, 8.43410144e-03, 1.65515913e-03,\n",
       "       2.34308017e-04, 2.39158918e-05, 1.85574977e-06, 3.99655642e-10])"
      ]
     },
     "execution_count": 5,
     "metadata": {},
     "output_type": "execute_result"
    }
   ],
   "source": [
    "pi_inti"
   ]
  },
  {
   "cell_type": "code",
   "execution_count": 4,
   "metadata": {},
   "outputs": [],
   "source": [
    "inc_par=solve(np.array([[20**2,20,1],[36**2,36,1],[65**2,65,1]]), np.array([0.3,1.5,0.2]))\n",
    "x=np.linspace(20,98,79)\n",
    "y=x**2*inc_par[0]+x*inc_par[1]+inc_par[2]\n",
    "y_bar=np.clip(y,0,1.5)\n",
    "y_bar[45:53]=np.linspace(0.2,0,8)\n",
    "\n",
    "#construct mean log(y) virtually (by my eyes...)"
   ]
  },
  {
   "cell_type": "code",
   "execution_count": 5,
   "metadata": {},
   "outputs": [],
   "source": [
    "e_grid=np.exp(np.tile(y_bar,(20,1)).transpose()+grid.reshape(1,20))\n",
    "# 79 by 20\n",
    "# mean y by age"
   ]
  },
  {
   "cell_type": "code",
   "execution_count": 6,
   "metadata": {},
   "outputs": [],
   "source": [
    "β=1.011\n",
    "α=0.36\n",
    "δ=0.06\n",
    "σ=1.5\n",
    "θ=0.10\n",
    "J=79\n",
    "A=0.895944\n",
    "j_re=46\n",
    "n=0.012\n",
    "surv=1-np.linspace(0,1,J+1, dtype=np.float64) ** 3.5"
   ]
  },
  {
   "cell_type": "code",
   "execution_count": 23,
   "metadata": {},
   "outputs": [],
   "source": [
    "@numba.njit\n",
    "def pop_dens(n, j, surv):\n",
    "    dens=np.ones(j, dtype=np.float64)/j\n",
    "    count=0\n",
    "    err=1.\n",
    "    \n",
    "    while err>1e-10 and count<=2000:\n",
    "        dens_new=dens.copy()\n",
    "        sum=0.\n",
    "        for i in range(j-1):\n",
    "            dens[i+1]=dens_new[i]*surv[i+1]\n",
    "            sum+=dens[i+1]\n",
    "        dens[0]=n+1-sum\n",
    "        dens = dens/np.sum(dens)\n",
    "        \n",
    "        err=np.max(np.abs(dens-dens_new))\n",
    "        count+=1\n",
    "        \n",
    "    return dens, count\n",
    "\n",
    "@numba.njit\n",
    "def labor_dens(j, pi, pi_inti):\n",
    "    count=0\n",
    "    err=1.\n",
    "    \n",
    "    dens_lab = np.zeros((j,20), dtype=np.float64)\n",
    "    dens_lab[0,] = pi_inti\n",
    "    for i in range(j-1):\n",
    "        dens_lab[i+1,]=dens_lab[i,]@pi\n",
    "    \n",
    "    dens_lab = dens_lab / np.sum(dens_lab, axis=1).reshape(-1,1)\n",
    "    \n",
    "    return dens_lab"
   ]
  },
  {
   "cell_type": "code",
   "execution_count": 33,
   "metadata": {},
   "outputs": [],
   "source": [
    "@numba.njit\n",
    "def pop_dens_new(n, j, surv):\n",
    "    dens=np.zeros(j, dtype=np.float64)\n",
    "    \n",
    "    dens[0]=1\n",
    "    for i in range(j-1):\n",
    "        dens[i+1]=dens[i]*surv[i+1]/(1+n)\n",
    "    \n",
    "    dens = dens/np.sum(dens)\n",
    "    return dens"
   ]
  },
  {
   "cell_type": "code",
   "execution_count": 8,
   "metadata": {},
   "outputs": [],
   "source": [
    "μ=pop_dens_new(n,J,surv)\n",
    "L_dens_temp=labor_dens(J, pi, pi_inti)\n",
    "L_dens = L_dens_temp*μ.reshape(-1,1) / np.sum(L_dens_temp*μ.reshape(-1,1))"
   ]
  },
  {
   "cell_type": "code",
   "execution_count": 60,
   "metadata": {},
   "outputs": [],
   "source": [
    "L=np.sum(e_grid*L_dens)"
   ]
  },
  {
   "cell_type": "code",
   "execution_count": 297,
   "metadata": {},
   "outputs": [],
   "source": [
    "@numba.njit\n",
    "def myclip(a, min, max):\n",
    "    I, J = a.shape\n",
    "    for i in range(I):\n",
    "        for j in range(J):\n",
    "            if a[i,j]<min:\n",
    "                a[i,j]=min\n",
    "            elif a[i,j]<max:\n",
    "                a[i,j]=max\n",
    "    return a"
   ]
  },
  {
   "cell_type": "code",
   "execution_count": 378,
   "metadata": {},
   "outputs": [],
   "source": [
    "def plc_iter(r, w, t, b, θ, τ, σ, e, a_grid, surv, pi, J, j_re):\n",
    "    \n",
    "    inc=(1+r*(1-τ))*a_grid + (1-θ-τ)*w*e + t + b\n",
    "    \n",
    "    plc_con=np.ones((J,20,301), dtype=np.float64)*6.\n",
    "    plc=np.ones((J,20,301), dtype=np.float64)\n",
    "    plc_con[J-1,:,:]=inc[J-1,:,:]\n",
    "    plc[J-1,:,:]=0\n",
    "    \n",
    "    for age in range(J-2,-1,-1):\n",
    "        err=1.\n",
    "        count=0\n",
    "        while err>1e-6 and count<=500:\n",
    "            itp=np.zeros((20,301), dtype=np.float64)\n",
    "            plc_n=plc_con[age,:,:]\n",
    "            \n",
    "            for l in range(20):\n",
    "                itp[l,:]=interp(a_grid[0,0,:],plc_con[age+1,l,:], inc[age,l,:]-plc_n[l,:])\n",
    "            \n",
    "            cons=(β*surv[age+1]* pi@(itp ** (-σ)))**(-1/σ)\n",
    "            a_temp = (cons + a_grid[0,0,:]-(1-θ-τ)*w*e[age,:,:])/(1+r*(1-τ))\n",
    "            \n",
    "            for k in range(20):\n",
    "                location = np.where((1+r*(1-τ))*a_temp[k,:]+(1-θ-τ)*w*e[age,k,:]-cons[k,:])\n",
    "                if location[0].shape[0]==0:\n",
    "                    sup = 0\n",
    "                else:\n",
    "                    sup = np.max(location[0])+1\n",
    "                plc_con[age,k,sup:301] = interp(a_temp[k,:], cons[k,:], a_grid[0,0,sup:301])\n",
    "                plc_con[age,k,0:sup] = (1+r*(1-τ))*a_grid[0,0,0:sup] + (1-θ-τ)*w*e[age,:,:]\n",
    "        \n",
    "            err=np.max(np.abs(plc_con[age,:,:],plc_n))\n",
    "            count+=1\n",
    "        \n",
    "    return plc_con"
   ]
  },
  {
   "cell_type": "code",
   "execution_count": 317,
   "metadata": {},
   "outputs": [],
   "source": [
    "@numba.njit\n",
    "def asset_dens(r, w, t, b, a_grid, plc, pi_inti, pi):\n",
    "    ass=np.zeros((79,20,301), dtype=np.float64)\n",
    "    demo=np.zeros((79,20,301), dtype=np.float64)\n",
    "    \n",
    "    itv = a_grid[1:301]-a_grid[0:300]\n",
    "    ass[0,:,:]=0.\n",
    "    demo[0,:,0]=pi_inti\n",
    "\n",
    "    for age in range(1,79):\n",
    "        temp=np.zeros((301*20,21), dtype=np.float64)\n",
    "        for e in range(20):\n",
    "            for a in range(301):\n",
    "                temp[a*20+e,0]=plc[age,e,a]\n",
    "                temp[a*20+e,1:21]=demo[age-1,e,a] * pi[e,:]\n",
    "                \n",
    "        for k in range(300):\n",
    "            location = np.where(np.logical_and(np.greater_equal(temp[:,0],a_grid[k]), np.less_equal(temp[:,0],a_grid[k+1])))\n",
    "            l=location[0]\n",
    "            demo[age,:,k] = np.sum(temp[l,1:21]*(np.reshape((temp[l,0]-a_grid[k]), (-1,1))/itv[k]), axis=0) + demo[age,:,k]\n",
    "            demo[age,:,k] = np.sum(temp[l,1:21]*(np.reshape((a_grid[k+1]-temp[l,0]), (-1,1))/itv[k]), axis=0) + demo[age,:,k+1]\n",
    "    \n",
    "    return demo"
   ]
  },
  {
   "cell_type": "code",
   "execution_count": 318,
   "metadata": {},
   "outputs": [],
   "source": [
    "a_grid=np.linspace(0,1,301, dtype=np.float64) ** 1.3 * 40\n",
    "a_grid_re=a_grid.reshape(1,1,301)"
   ]
  },
  {
   "cell_type": "code",
   "execution_count": 379,
   "metadata": {},
   "outputs": [
    {
     "name": "stderr",
     "output_type": "stream",
     "text": [
      "D:\\Programming\\Anaconda3\\lib\\site-packages\\ipykernel_launcher.py:20: RuntimeWarning: invalid value encountered in power\n"
     ]
    },
    {
     "ename": "TypeError",
     "evalue": "'float' object is not subscriptable",
     "output_type": "error",
     "traceback": [
      "\u001b[1;31m---------------------------------------------------------------------------\u001b[0m",
      "\u001b[1;31mTypeError\u001b[0m                                 Traceback (most recent call last)",
      "\u001b[1;32m<ipython-input-379-fb4bbef57212>\u001b[0m in \u001b[0;36m<module>\u001b[1;34m\u001b[0m\n\u001b[0;32m     23\u001b[0m     \u001b[0me\u001b[0m\u001b[1;33m=\u001b[0m\u001b[0me_grid\u001b[0m\u001b[1;33m.\u001b[0m\u001b[0mreshape\u001b[0m\u001b[1;33m(\u001b[0m\u001b[1;36m79\u001b[0m\u001b[1;33m,\u001b[0m\u001b[1;36m20\u001b[0m\u001b[1;33m,\u001b[0m\u001b[1;36m1\u001b[0m\u001b[1;33m)\u001b[0m\u001b[1;33m.\u001b[0m\u001b[0mrepeat\u001b[0m\u001b[1;33m(\u001b[0m\u001b[1;36m301\u001b[0m\u001b[1;33m,\u001b[0m \u001b[0maxis\u001b[0m\u001b[1;33m=\u001b[0m\u001b[1;36m2\u001b[0m\u001b[1;33m)\u001b[0m\u001b[1;33m\u001b[0m\u001b[1;33m\u001b[0m\u001b[0m\n\u001b[0;32m     24\u001b[0m \u001b[1;33m\u001b[0m\u001b[0m\n\u001b[1;32m---> 25\u001b[1;33m     \u001b[0mplc\u001b[0m \u001b[1;33m=\u001b[0m \u001b[0mplc_iter\u001b[0m\u001b[1;33m(\u001b[0m\u001b[0mr\u001b[0m\u001b[1;33m,\u001b[0m \u001b[0mw\u001b[0m\u001b[1;33m,\u001b[0m \u001b[0mt\u001b[0m\u001b[1;33m,\u001b[0m \u001b[0mb\u001b[0m\u001b[1;33m,\u001b[0m \u001b[0me\u001b[0m\u001b[1;33m,\u001b[0m \u001b[0mθ\u001b[0m\u001b[1;33m,\u001b[0m \u001b[0mτ\u001b[0m\u001b[1;33m,\u001b[0m \u001b[0mσ\u001b[0m\u001b[1;33m,\u001b[0m \u001b[0ma_grid_re\u001b[0m\u001b[1;33m,\u001b[0m \u001b[0msurv\u001b[0m\u001b[1;33m,\u001b[0m \u001b[0mpi\u001b[0m\u001b[1;33m,\u001b[0m \u001b[0mJ\u001b[0m\u001b[1;33m,\u001b[0m \u001b[0mj_re\u001b[0m\u001b[1;33m)\u001b[0m\u001b[1;33m\u001b[0m\u001b[1;33m\u001b[0m\u001b[0m\n\u001b[0m\u001b[0;32m     26\u001b[0m     \u001b[0mplc\u001b[0m\u001b[1;33m=\u001b[0m\u001b[0mnp\u001b[0m\u001b[1;33m.\u001b[0m\u001b[0mclip\u001b[0m\u001b[1;33m(\u001b[0m\u001b[0mplc\u001b[0m\u001b[1;33m,\u001b[0m\u001b[1;36m0\u001b[0m\u001b[1;33m,\u001b[0m\u001b[1;36m40\u001b[0m\u001b[1;33m)\u001b[0m\u001b[1;33m\u001b[0m\u001b[1;33m\u001b[0m\u001b[0m\n\u001b[0;32m     27\u001b[0m \u001b[1;33m\u001b[0m\u001b[0m\n",
      "\u001b[1;32m<ipython-input-378-81dc0f56f0c8>\u001b[0m in \u001b[0;36mplc_iter\u001b[1;34m(r, w, t, b, θ, τ, σ, e, a_grid, surv, pi, J, j_re)\u001b[0m\n\u001b[0;32m     19\u001b[0m \u001b[1;33m\u001b[0m\u001b[0m\n\u001b[0;32m     20\u001b[0m             \u001b[0mcons\u001b[0m\u001b[1;33m=\u001b[0m\u001b[1;33m(\u001b[0m\u001b[0mβ\u001b[0m\u001b[1;33m*\u001b[0m\u001b[0msurv\u001b[0m\u001b[1;33m[\u001b[0m\u001b[0mage\u001b[0m\u001b[1;33m+\u001b[0m\u001b[1;36m1\u001b[0m\u001b[1;33m]\u001b[0m\u001b[1;33m*\u001b[0m \u001b[0mpi\u001b[0m\u001b[1;33m@\u001b[0m\u001b[1;33m(\u001b[0m\u001b[0mitp\u001b[0m \u001b[1;33m**\u001b[0m \u001b[1;33m(\u001b[0m\u001b[1;33m-\u001b[0m\u001b[0mσ\u001b[0m\u001b[1;33m)\u001b[0m\u001b[1;33m)\u001b[0m\u001b[1;33m)\u001b[0m\u001b[1;33m**\u001b[0m\u001b[1;33m(\u001b[0m\u001b[1;33m-\u001b[0m\u001b[1;36m1\u001b[0m\u001b[1;33m/\u001b[0m\u001b[0mσ\u001b[0m\u001b[1;33m)\u001b[0m\u001b[1;33m\u001b[0m\u001b[1;33m\u001b[0m\u001b[0m\n\u001b[1;32m---> 21\u001b[1;33m             \u001b[0ma_temp\u001b[0m \u001b[1;33m=\u001b[0m \u001b[1;33m(\u001b[0m\u001b[0mcons\u001b[0m \u001b[1;33m+\u001b[0m \u001b[0ma_grid\u001b[0m\u001b[1;33m[\u001b[0m\u001b[1;36m0\u001b[0m\u001b[1;33m,\u001b[0m\u001b[1;36m0\u001b[0m\u001b[1;33m,\u001b[0m\u001b[1;33m:\u001b[0m\u001b[1;33m]\u001b[0m\u001b[1;33m-\u001b[0m\u001b[1;33m(\u001b[0m\u001b[1;36m1\u001b[0m\u001b[1;33m-\u001b[0m\u001b[0mθ\u001b[0m\u001b[1;33m-\u001b[0m\u001b[0mτ\u001b[0m\u001b[1;33m)\u001b[0m\u001b[1;33m*\u001b[0m\u001b[0mw\u001b[0m\u001b[1;33m*\u001b[0m\u001b[0me\u001b[0m\u001b[1;33m[\u001b[0m\u001b[0mage\u001b[0m\u001b[1;33m,\u001b[0m\u001b[1;33m:\u001b[0m\u001b[1;33m,\u001b[0m\u001b[1;33m:\u001b[0m\u001b[1;33m]\u001b[0m\u001b[1;33m)\u001b[0m\u001b[1;33m/\u001b[0m\u001b[1;33m(\u001b[0m\u001b[1;36m1\u001b[0m\u001b[1;33m+\u001b[0m\u001b[0mr\u001b[0m\u001b[1;33m*\u001b[0m\u001b[1;33m(\u001b[0m\u001b[1;36m1\u001b[0m\u001b[1;33m-\u001b[0m\u001b[0mτ\u001b[0m\u001b[1;33m)\u001b[0m\u001b[1;33m)\u001b[0m\u001b[1;33m\u001b[0m\u001b[1;33m\u001b[0m\u001b[0m\n\u001b[0m\u001b[0;32m     22\u001b[0m \u001b[1;33m\u001b[0m\u001b[0m\n\u001b[0;32m     23\u001b[0m             \u001b[1;32mfor\u001b[0m \u001b[0mk\u001b[0m \u001b[1;32min\u001b[0m \u001b[0mrange\u001b[0m\u001b[1;33m(\u001b[0m\u001b[1;36m20\u001b[0m\u001b[1;33m)\u001b[0m\u001b[1;33m:\u001b[0m\u001b[1;33m\u001b[0m\u001b[1;33m\u001b[0m\u001b[0m\n",
      "\u001b[1;31mTypeError\u001b[0m: 'float' object is not subscriptable"
     ]
    }
   ],
   "source": [
    "k_min=0.\n",
    "k_max=12.\n",
    "t_min=0.\n",
    "t_max=12\n",
    "\n",
    "err=1.\n",
    "count=0\n",
    "\n",
    "k=8.\n",
    "t=1.5\n",
    "\n",
    "while err>1e-4 and count<=100:\n",
    "    y = A * k**α * L**(1-α)\n",
    "    r = A * α * (L/k)**(1-α)\n",
    "    w = A * (1-α) * (k/L)**α\n",
    "    τ = 0.195/(1-δ*k/y)\n",
    "    b = θ*w*L/(np.sum(μ[j_re-1:]))\n",
    "    \n",
    "    b_vec=np.ones(J, dtype=np.float64)*b\n",
    "    b_vec[0:j_re]=0\n",
    "    b_vec=b_vec.reshape(-1,1,1)\n",
    "    \n",
    "    e=e_grid.reshape(79,20,1).repeat(301, axis=2)\n",
    "    \n",
    "    plc = plc_iter(r, w, t, b, e, θ, τ, σ, a_grid_re, surv, pi, J, j_re)\n",
    "    plc=np.clip(plc,0,40)\n",
    "    \n",
    "    demo = asset_dens(r, w, t, b_vec, a_grid, plc, pi_inti, pi)\n",
    "    \n",
    "    ass_dist_temp=demo*μ.reshape(-1,1,1)\n",
    "    ass_dist= ass_dist_temp / np.sum(ass_dist_temp)\n",
    "    \n",
    "    k_prime=np.sum(plc*ass_dist)\n",
    "    t_prime=np.sum((1-surv[0:79]).reshape(-1,1,1) * plc * ass_dist) * ((1+r*(1-τ))) / (1+n)\n",
    "    \n",
    "    err=np.max(np.abs([k-k_prime,t-t_prime]))\n",
    "    \n",
    "    if k_prime < k:\n",
    "        k_min = k\n",
    "    else:\n",
    "        k_max = k\n",
    "    k = 0.5*(k_min+k_max)\n",
    "    \n",
    "    if t_prime < t:\n",
    "        t_min = t\n",
    "    else:\n",
    "        t_max = t\n",
    "    t = 0.5*(t_min+t_max)\n",
    "    \n",
    "    print(count)\n",
    "    count+=1"
   ]
  },
  {
   "cell_type": "code",
   "execution_count": 291,
   "metadata": {},
   "outputs": [
    {
     "name": "stderr",
     "output_type": "stream",
     "text": [
      "D:\\Programming\\Anaconda3\\lib\\site-packages\\ipykernel_launcher.py:14: RuntimeWarning: invalid value encountered in power\n",
      "  \n"
     ]
    }
   ],
   "source": [
    "inc=(1+r*(1-τ))*a_grid_re + (1-θ-τ)*w*e + t + b    \n",
    "temp=np.zeros((20,301))\n",
    "plc=np.ones((J,20,301), dtype=np.float64)*6.\n",
    "plc[J-1,:,:]=0\n",
    "    \n",
    "for age in range(J-2,-1,-1):\n",
    "    err=1.\n",
    "    count=0\n",
    "    while err>1e-6 and count<=500:\n",
    "        itp=np.zeros((20,301), dtype=np.float64)\n",
    "        plc_n=plc[age,:,:]\n",
    "        for k in range(20):\n",
    "            itp[k,:]=interp(a_grid_re[0,0,:],plc[age+1,k,:], plc_n[k,:])\n",
    "        temp=(β*surv[age+1]* pi@((1+r*(1-τ))*plc_n + (1-θ-τ)*w*e[age,:,:] + t + b_vec[age,0,0]-itp) ** (-σ))**(-1/σ)\n",
    "        plc[age,:,:]=myclip(inc[age,:,:]-temp,0,40)\n",
    "        err=np.max(np.abs(plc[age,:,:],plc_n))\n",
    "        count+=1"
   ]
  },
  {
   "cell_type": "code",
   "execution_count": 284,
   "metadata": {},
   "outputs": [],
   "source": [
    "temp=(β*surv[age+1]* pi@((1+r*(1-τ))*plc_n + (1-θ-τ)*w*e[age,:,:] + t + b_vec[age,0,0]-itp) ** (-σ))**(-1/σ)"
   ]
  },
  {
   "cell_type": "code",
   "execution_count": 356,
   "metadata": {},
   "outputs": [
    {
     "data": {
      "text/plain": [
       "array([[-4.33944977e-03,  1.61408630e-02,  4.60889954e-02, ...,\n",
       "         3.37102385e+01,  3.38573895e+01,  3.40046882e+01],\n",
       "       [-1.97465023e-02,  7.33810435e-04,  3.06819429e-02, ...,\n",
       "         3.36948314e+01,  3.38419824e+01,  3.39892811e+01],\n",
       "       [-2.82050433e-02, -7.72473062e-03,  2.22234018e-02, ...,\n",
       "         3.36863729e+01,  3.38335239e+01,  3.39808226e+01],\n",
       "       ...,\n",
       "       [-5.92755571e+00, -5.90707540e+00, -5.87712726e+00, ...,\n",
       "         2.77870222e+01,  2.79341732e+01,  2.80814719e+01],\n",
       "       [-8.46666226e+00, -8.44618195e+00, -8.41623381e+00, ...,\n",
       "         2.52479157e+01,  2.53950667e+01,  2.55423654e+01],\n",
       "       [-3.85272268e+01, -3.85067465e+01, -3.84767984e+01, ...,\n",
       "        -4.81264889e+00, -4.66549790e+00, -4.51819919e+00]])"
      ]
     },
     "execution_count": 356,
     "metadata": {},
     "output_type": "execute_result"
    }
   ],
   "source": [
    "(a_grid_re[0,0,:] - (1-θ-τ) * w * e[75,:,:]) / (1+r*(1-τ))"
   ]
  },
  {
   "cell_type": "code",
   "execution_count": 359,
   "metadata": {},
   "outputs": [
    {
     "data": {
      "text/plain": [
       "(1, 1, 301)"
      ]
     },
     "execution_count": 359,
     "metadata": {},
     "output_type": "execute_result"
    }
   ],
   "source": [
    "a_grid_re.shape"
   ]
  },
  {
   "cell_type": "code",
   "execution_count": 218,
   "metadata": {},
   "outputs": [
    {
     "data": {
      "text/plain": [
       "2"
      ]
     },
     "execution_count": 218,
     "metadata": {},
     "output_type": "execute_result"
    }
   ],
   "source": [
    "test\n",
    "test"
   ]
  },
  {
   "cell_type": "code",
   "execution_count": 219,
   "metadata": {},
   "outputs": [],
   "source": [
    "test[1]=3"
   ]
  },
  {
   "cell_type": "code",
   "execution_count": 376,
   "metadata": {},
   "outputs": [],
   "source": [
    "\n",
    "    \n",
    "inc=(1+r*(1-τ))*a_grid + (1-θ-τ)*w*e + t + b\n",
    "plc_con=np.ones((J,20,301), dtype=np.float64)*6.\n",
    "plc=np.ones((J,20,301), dtype=np.float64)\n",
    "plc_con[J-1,:,:]=inc[J-1,:,:]\n",
    "plc[J-1,:,:]=0\n",
    "    \n",
    "for age in range(J-2,-1,-1):\n",
    "    err=1.\n",
    "    count=0\n",
    "    while err>1e-6 and count<=500:\n",
    "        itp=np.zeros((20,301), dtype=np.float64)\n",
    "        plc_n=plc_con[age,:,:]\n",
    "            \n",
    "        for l in range(20):\n",
    "            itp[l,:]=interp(a_grid_re[0,0,:],plc_con[age+1,l,:], inc[age,l,:]-plc_n[l,:])\n",
    "            \n",
    "        cons=(β*surv[age+1]* pi@(itp ** (-σ)))**(-1/σ)\n",
    "        a_temp = (cons + a_grid_re[0,0,:]-(1-θ-τ)*w*e[age,:,:])/(1+r*(1-τ))\n",
    "            \n",
    "        for k in range(20):\n",
    "            location = np.where((1+r*(1-τ))*a_temp[k,:]+(1-θ-τ)*w*e[age,k,:]-cons[k,:])\n",
    "            if location[0].shape[0]==0:\n",
    "                sup = 0\n",
    "            else:\n",
    "                sup = np.max(location[0])+1\n",
    "            plc_con[age,k,sup:301] = interp(a_temp[k,:], cons[k,:], a_grid_re[0,0,sup:301])\n",
    "            plc_con[age,k,0:sup] = (1+r*(1-τ))*a_grid_re[0,0,0:sup] + (1-θ-τ)*w*e[age,k,:]\n",
    "        \n",
    "        err=np.max(np.abs(plc_con[age,:,:],plc_n))\n",
    "        count+=1"
   ]
  },
  {
   "cell_type": "code",
   "execution_count": 381,
   "metadata": {},
   "outputs": [
    {
     "data": {
      "text/plain": [
       "array([[6.88951717e-03, 3.52209237e-02, 7.66496230e-02, ...,\n",
       "        4.66458949e+01, 4.68494560e+01, 4.70532214e+01],\n",
       "       [3.13504877e-02, 5.96818942e-02, 1.01110594e-01, ...,\n",
       "        4.66703558e+01, 4.68739169e+01, 4.70776824e+01],\n",
       "       [4.47796704e-02, 7.31110770e-02, 1.14539776e-01, ...,\n",
       "        4.66837850e+01, 4.68873461e+01, 4.70911115e+01],\n",
       "       ...,\n",
       "       [9.41086981e+00, 9.43920121e+00, 9.48062991e+00, ...,\n",
       "        5.60498752e+01, 5.62534362e+01, 5.64572017e+01],\n",
       "       [1.34420763e+01, 1.34704077e+01, 1.35118364e+01, ...,\n",
       "        6.00810817e+01, 6.02846428e+01, 6.04884082e+01],\n",
       "       [6.11676606e+01, 6.11959920e+01, 6.12374207e+01, ...,\n",
       "        1.07806666e+02, 1.08010227e+02, 1.08213992e+02]])"
      ]
     },
     "execution_count": 381,
     "metadata": {},
     "output_type": "execute_result"
    }
   ],
   "source": []
  },
  {
   "cell_type": "code",
   "execution_count": null,
   "metadata": {},
   "outputs": [],
   "source": []
  }
 ],
 "metadata": {
  "kernelspec": {
   "display_name": "Python 3",
   "language": "python",
   "name": "python3"
  },
  "language_info": {
   "codemirror_mode": {
    "name": "ipython",
    "version": 3
   },
   "file_extension": ".py",
   "mimetype": "text/x-python",
   "name": "python",
   "nbconvert_exporter": "python",
   "pygments_lexer": "ipython3",
   "version": "3.7.1"
  }
 },
 "nbformat": 4,
 "nbformat_minor": 2
}
