{
 "cells": [
  {
   "cell_type": "code",
   "execution_count": 1,
   "metadata": {},
   "outputs": [],
   "source": [
    "import numpy as np\n",
    "import numba\n",
    "import quantecon as qe\n",
    "import matplotlib.pyplot as plt\n",
    "import datetime"
   ]
  },
  {
   "cell_type": "code",
   "execution_count": 2,
   "metadata": {},
   "outputs": [],
   "source": [
    "beta=0.96\n",
    "alpha=0.36\n",
    "delta=0.08\n",
    "a_max = 40.\n",
    "b=3."
   ]
  },
  {
   "cell_type": "code",
   "execution_count": 3,
   "metadata": {},
   "outputs": [],
   "source": [
    "#rho=0.2\n",
    "rho=0.4\n",
    "\n",
    "#mu=0\n",
    "mu=3\n",
    "#mu=5\n",
    "\n",
    "#sigma=0\n",
    "sigma=0.4\n",
    "#sigma=0.6\n",
    "#sigma=0.9"
   ]
  },
  {
   "cell_type": "code",
   "execution_count": 4,
   "metadata": {},
   "outputs": [],
   "source": [
    "x = qe.markov.approximation.tauchen(rho,sigma*(1-rho**2)**0.5, m = 3,n = 7)\n",
    "l_grid = np.exp(x.state_values)\n",
    "l_dis = x.stationary_distributions\n",
    "L = np.sum(l_grid * l_dis)\n",
    "l_min=l_grid[0]\n",
    "piel = x.P"
   ]
  },
  {
   "cell_type": "code",
   "execution_count": 5,
   "metadata": {},
   "outputs": [],
   "source": [
    "@numba.njit\n",
    "def value_iter(v, c, beta, mu, piel):\n",
    "    n=0\n",
    "    err=1.\n",
    "    \n",
    "    while err > 1e-8 and n <= 1000:\n",
    "        \n",
    "        vn = v.copy()\n",
    "        expc = piel @ np.transpose(v)\n",
    "        \n",
    "        if mu == 0:\n",
    "            u = np.log(c)\n",
    "        else:\n",
    "            u = c ** (1 - mu) / (1 - mu)\n",
    "        \n",
    "        temp = u + beta * expc.reshape(1, 7, 601)\n",
    "        for i in range(601):\n",
    "            for j in range(7):\n",
    "                v[i,j] =  np.max(temp[i,j,:])\n",
    "\n",
    "        if n % 20 == 0:        \n",
    "            err = np.max(np.abs(v - vn))\n",
    "            \n",
    "        n += 1\n",
    "    return vn, temp"
   ]
  },
  {
   "cell_type": "code",
   "execution_count": 6,
   "metadata": {},
   "outputs": [],
   "source": [
    "@numba.njit\n",
    "def demo_iter(demo, plc, pie):\n",
    "    err = 1.\n",
    "    n = 0\n",
    "    dims = pie.shape[1]\n",
    "    while err > 1e-10 and n <= 1000:\n",
    "        demon = np.zeros((601,dims), dtype=np.float64)\n",
    "        for i in range(601):\n",
    "            for j in range(dims):\n",
    "                aprime = plc[i,j]\n",
    "                demon[aprime,:]=demo[i,j]*pie[j,:] + demon[aprime,:]\n",
    "        \n",
    "        if n % 10 == 0:        \n",
    "            err = np.max(np.abs(demon - demo))\n",
    "            \n",
    "        demo = demon.copy()\n",
    "        n += 1\n",
    "    return demon"
   ]
  },
  {
   "cell_type": "code",
   "execution_count": 7,
   "metadata": {},
   "outputs": [],
   "source": [
    "v = np.ones((601,7),dtype=np.float64)\n",
    "demo = np.ones((601,7), dtype=np.float64) / (601*7)"
   ]
  },
  {
   "cell_type": "code",
   "execution_count": 9,
   "metadata": {},
   "outputs": [],
   "source": [
    "fig=np.empty((20,3), dtype=np.float64)\n",
    "\n",
    "fig[:,0]=np.linspace(-0.04, (1-beta)/beta, 20)\n",
    "\n",
    "for i in range(20):\n",
    "    r=fig[i,0]\n",
    "    k = (((r+delta)/(alpha * L**(1-alpha)))) ** (1/(alpha-1))\n",
    "    fig[i,1]=k\n",
    "    w = (1-alpha) * (k**alpha) * (L**(-alpha))\n",
    "    \n",
    "    if r > 0:\n",
    "        phi = min(b, w*l_min/r)\n",
    "    else:\n",
    "        phi = b\n",
    "    \n",
    "    a_grid = (np.linspace(0, 1, 601, dtype=np.float64)**2)*(phi+a_max)-phi\n",
    "    a_base = a_grid.reshape(601,1).repeat(7, axis=1)\n",
    "    \n",
    "    c = (1+r)*a_base + w*l_grid\n",
    "    c = c.repeat(601, axis=1).reshape(601,7,601) - a_grid.reshape(1,601).repeat(7, axis = 0).reshape(1,7,601)\n",
    "    c = np.clip(c, a_min=1e-10, a_max=50)\n",
    "    \n",
    "    v, temp = value_iter(v, c, beta, mu, piel)\n",
    "    plc = np.argmax(temp, axis=2)\n",
    "    demo = demo_iter(demo, plc, piel)\n",
    "    fig[i,2] = np.sum(demo*a_grid.reshape(-1,1))"
   ]
  },
  {
   "cell_type": "code",
   "execution_count": 10,
   "metadata": {},
   "outputs": [],
   "source": [
    "pr3=fig"
   ]
  },
  {
   "cell_type": "code",
   "execution_count": 11,
   "metadata": {},
   "outputs": [
    {
     "data": {
      "text/plain": [
       "<matplotlib.patches.FancyBboxPatch at 0x2dd3e4ed080>"
      ]
     },
     "execution_count": 11,
     "metadata": {},
     "output_type": "execute_result"
    },
    {
     "data": {
      "image/png": "[encoded data removed]",
      "text/plain": [
       "<Figure size 432x288 with 1 Axes>"
      ]
     },
     "metadata": {
      "needs_background": "light"
     },
     "output_type": "display_data"
    }
   ],
   "source": [
    "fig, ax = plt.subplots()\n",
    "ax.plot(pr3[:,2], pr3[:,0], label='Ea(r)')\n",
    "ax.plot(pr3[:,1], pr3[:,0], label='K(r)')\n",
    "ax.set_title(\"Steady-State Determination\")\n",
    "ax.set_xlabel('a')\n",
    "\n",
    "legend = ax.legend(loc='upper right', shadow=True, fontsize='x-large')\n",
    "\n",
    "legend.get_frame()\n",
    "#fig.savefig('A2_graphs/ss_dtm.png', dpi=500)"
   ]
  },
  {
   "cell_type": "code",
   "execution_count": 8,
   "metadata": {},
   "outputs": [
    {
     "name": "stdout",
     "output_type": "stream",
     "text": [
      "0\n",
      "10\n",
      "0:02:20.071730\n"
     ]
    }
   ],
   "source": [
    "err = 1.\n",
    "count = 0\n",
    "r = 0.01\n",
    "\n",
    "#momentum = 0.15\n",
    "#lr = 0.001\n",
    "#decay = 0.98\n",
    "r_low=-0.04\n",
    "r_up=(1-beta)/beta\n",
    "start = datetime.datetime.now()\n",
    "\n",
    "while err >= 15e-4 and count <= 1000:\n",
    "    k = (((r+delta)/(alpha * L**(1-alpha)))) ** (1/(alpha-1))\n",
    "    w = (1-alpha) * (k**alpha) * (L**(-alpha))\n",
    "    \n",
    "    if r > 0:\n",
    "        phi = min(b, w*l_min/r)\n",
    "    else:\n",
    "        phi = b\n",
    "    \n",
    "    a_grid = (np.linspace(0, 1, 601, dtype=np.float64)**2)*(phi+a_max)-phi\n",
    "    a_base = a_grid.reshape(601,1).repeat(7, axis=1)\n",
    "    \n",
    "    c = (1+r)*a_base + w*l_grid\n",
    "    c = c.repeat(601, axis=1).reshape(601,7,601) - a_grid.reshape(1,601).repeat(7, axis = 0).reshape(1,7,601)\n",
    "    c = np.clip(c, a_min=1e-10, a_max=50)\n",
    "    \n",
    "    v, temp = value_iter(v, c, beta, mu, piel)\n",
    "    plc = np.argmax(temp, axis=2)\n",
    "    demo = demo_iter(demo, plc, piel)\n",
    "    kprime = np.sum(demo*a_grid.reshape(-1,1))\n",
    "    \n",
    "    err = np.abs(k - kprime)\n",
    "    if kprime < k:\n",
    "        r_low = r\n",
    "    else:\n",
    "        r_up = r\n",
    "    r = 0.5*(r_up+r_low)\n",
    "    \n",
    "    if count % 10 ==0:\n",
    "        print(count)\n",
    "    \n",
    "    count += 1\n",
    "\n",
    "end = datetime.datetime.now()\n",
    "print(end-start)"
   ]
  },
  {
   "cell_type": "code",
   "execution_count": 16,
   "metadata": {},
   "outputs": [
    {
     "data": {
      "text/plain": [
       "(6.390075882618307, 6.388724934722765, 0.03617273966471357, 1.2091523735138896)"
      ]
     },
     "execution_count": 16,
     "metadata": {},
     "output_type": "execute_result"
    }
   ],
   "source": [
    "k, kprime, r, w"
   ]
  },
  {
   "cell_type": "code",
   "execution_count": 9,
   "metadata": {},
   "outputs": [
    {
     "data": {
      "text/plain": [
       "(6.3706888337831336,\n",
       " 6.370343005078033,\n",
       " 0.03639984130859379,\n",
       " 1.2078304346946371)"
      ]
     },
     "execution_count": 9,
     "metadata": {},
     "output_type": "execute_result"
    }
   ],
   "source": [
    "k, kprime, r, w"
   ]
  },
  {
   "cell_type": "code",
   "execution_count": 18,
   "metadata": {},
   "outputs": [
    {
     "data": {
      "text/plain": [
       "0.06263229729956943"
      ]
     },
     "execution_count": 18,
     "metadata": {},
     "output_type": "execute_result"
    }
   ],
   "source": [
    "r"
   ]
  },
  {
   "cell_type": "code",
   "execution_count": 13,
   "metadata": {},
   "outputs": [
    {
     "data": {
      "text/plain": [
       "1.0773325810396563"
      ]
     },
     "execution_count": 13,
     "metadata": {},
     "output_type": "execute_result"
    }
   ],
   "source": [
    "w"
   ]
  },
  {
   "cell_type": "code",
   "execution_count": 9,
   "metadata": {},
   "outputs": [],
   "source": [
    "@numba.guvectorize(['f8[:], f8, f8, f8[:,:], f8[:,:], f8[:,:]'],\n",
    "                  '(a),(),(),(b,c),(d,d)->(b,c)', nopython=True)\n",
    "def demo_iter_re(a_grid, phi, a_max, plc, pie, demon):\n",
    "    err = 1.\n",
    "    n = 0\n",
    "    \n",
    "    itv = a_grid[1:601]-a_grid[0:600]\n",
    "    \n",
    "    while err > 1e-6 and n <= 1000:\n",
    "        demo = demon.copy()\n",
    "        temp = np.zeros((601*7,8), dtype=np.float64)\n",
    "        demon = np.zeros((601,7), dtype=np.float64)\n",
    "        for i in range(601):\n",
    "            for j in range(7):\n",
    "                temp[i*7+j,0]=plc[i,j]\n",
    "                temp[i*7+j,1:8]=demo[i,j] * pie[j,:]\n",
    "        \n",
    "        for k in range(600):\n",
    "            location = np.where(np.logical_and(np.greater_equal(temp[:,0],a_grid[k]), np.less_equal(temp[:,0],a_grid[k+1])))\n",
    "            for l in location:\n",
    "                demon[k,:] = np.sum(temp[l,1:8]*((temp[l,0]-a_grid[k])/itv[k]), axis=0) + demon[k,:]\n",
    "                demon[k+1,:] = np.sum(temp[l,1:8]*((a_grid[k+1]-temp[l,0])/itv[k]), axis=0) + demon[k+1,:]\n",
    "        \n",
    "        if n % 10 == 0:        \n",
    "            err = np.max(np.abs(demon - demo))\n",
    "            \n",
    "        n += 1"
   ]
  },
  {
   "cell_type": "code",
   "execution_count": 46,
   "metadata": {},
   "outputs": [],
   "source": [
    "demon = np.ones((601,7), dtype=np.float64) / (601*7)\n",
    "    \n",
    "itv = (a_max+phi)/1200\n",
    "a_itv = np.empty((601,2), dtype=np.float64)\n",
    "a_itv[:,0] = a_grid - itv\n",
    "a_itv[:,1] = a_grid + itv"
   ]
  },
  {
   "cell_type": "code",
   "execution_count": 47,
   "metadata": {},
   "outputs": [],
   "source": [
    "demon = np.ones((601,7), dtype=np.float64) / (601*7)\n",
    "demo = demon.copy()\n",
    "temp = np.zeros((601*7,8), dtype=np.float64)\n",
    "demon = np.zeros((601,7), dtype=np.float64)\n",
    "for i in range(601):\n",
    "    for j in range(7):\n",
    "        temp[i*7+j,0]=plc_re[i,j]\n",
    "        temp[i*7+j,1:8]=demo[i,j] * piel[j,:]\n",
    "        \n",
    "for k in range(601):\n",
    "    location = np.where(np.logical_and(np.greater_equal(temp[:,0],a_itv[k,0]), np.less(temp[:,0],a_itv[k,1])))\n",
    "    demon[k,:] = np.sum(temp[location,1:8], axis=1)"
   ]
  },
  {
   "cell_type": "code",
   "execution_count": 49,
   "metadata": {},
   "outputs": [
    {
     "data": {
      "text/plain": [
       "1.0"
      ]
     },
     "execution_count": 49,
     "metadata": {},
     "output_type": "execute_result"
    }
   ],
   "source": [
    "demon.sum()"
   ]
  },
  {
   "cell_type": "code",
   "execution_count": 15,
   "metadata": {},
   "outputs": [
    {
     "data": {
      "text/plain": [
       "1.0000000000007043"
      ]
     },
     "execution_count": 15,
     "metadata": {},
     "output_type": "execute_result"
    }
   ],
   "source": [
    "demo.sum()"
   ]
  },
  {
   "cell_type": "code",
   "execution_count": 14,
   "metadata": {},
   "outputs": [],
   "source": [
    "demon = np.ones((601,7), dtype=np.float64) / (601*7)"
   ]
  },
  {
   "cell_type": "code",
   "execution_count": 15,
   "metadata": {},
   "outputs": [
    {
     "data": {
      "text/plain": [
       "array([[-3.        , -3.        , -2.95333333, ..., -2.34666667,\n",
       "        -1.6       , -0.38666667],\n",
       "       [-3.        , -3.        , -2.95333333, ..., -2.3       ,\n",
       "        -1.55333333, -0.34      ],\n",
       "       [-3.        , -3.        , -2.90666667, ..., -2.25333333,\n",
       "        -1.50666667, -0.29333333],\n",
       "       ...,\n",
       "       [23.88      , 24.02      , 24.25333333, ..., 25.        ,\n",
       "        25.        , 25.        ],\n",
       "       [23.92666667, 24.06666667, 24.3       , ..., 25.        ,\n",
       "        25.        , 25.        ],\n",
       "       [23.97333333, 24.11333333, 24.34666667, ..., 25.        ,\n",
       "        25.        , 25.        ]])"
      ]
     },
     "execution_count": 15,
     "metadata": {},
     "output_type": "execute_result"
    }
   ],
   "source": [
    "tester = demo_iter_re(a_grid, phi, a_max, plc, pie, demon)"
   ]
  },
  {
   "cell_type": "code",
   "execution_count": null,
   "metadata": {},
   "outputs": [],
   "source": []
  }
 ],
 "metadata": {
  "kernelspec": {
   "display_name": "Python 3",
   "language": "python",
   "name": "python3"
  },
  "language_info": {
   "codemirror_mode": {
    "name": "ipython",
    "version": 3
   },
   "file_extension": ".py",
   "mimetype": "text/x-python",
   "name": "python",
   "nbconvert_exporter": "python",
   "pygments_lexer": "ipython3",
   "version": "3.7.1"
  }
 },
 "nbformat": 4,
 "nbformat_minor": 2
}
