{
 "cells": [
  {
   "cell_type": "markdown",
   "metadata": {},
   "source": [
    "Yuheng HUANG\n",
    "\n",
    "29-187011\n",
    "\n"
   ]
  },
  {
   "cell_type": "markdown",
   "metadata": {},
   "source": [
    "**1 Deterministic OLG model**\n",
    "\n",
    "**1.1**\n",
    "\n",
    "There are a series of policy functions $\\left\\{a'=g_{j}\\left(a,\\theta\\right)\\right\\}_{j=1}^{J}$, and real numbers $K$, $N$, $C$, $r$, $w$ s.t.\n",
    "\n",
    "1. Prices are set competitively, that is, $r=F_{K}-\\delta$ and $w=F_{N}$\n",
    "\n",
    "2. The policy functions solve household's optimization problems in each period\n",
    "\n",
    "3. Aggregate resource constraint $F\\left(K,N\\right)=\\delta K+C$\n",
    "\n",
    "4. capital and labor market clear, that is, $K=\\Sigma_{j}\\mu_{j}a_{j}$, $N=\\Sigma_{j}\\mu_{j}\\theta_{j}$ and $C=\\Sigma_{j}\\mu_{j}c_{j}$\n",
    "\n",
    "5. Transversality condition $a_{J+1}\\geqslant 0$"
   ]
  },
  {
   "cell_type": "code",
   "execution_count": 1,
   "metadata": {},
   "outputs": [],
   "source": [
    "import numpy as np\n",
    "import numba\n",
    "import datetime\n",
    "import matplotlib.pyplot as plt"
   ]
  },
  {
   "cell_type": "code",
   "execution_count": 2,
   "metadata": {},
   "outputs": [],
   "source": [
    "alpha=0.36\n",
    "delta=0.1\n",
    "beta=1.01\n",
    "j_max=60"
   ]
  },
  {
   "cell_type": "code",
   "execution_count": 3,
   "metadata": {},
   "outputs": [],
   "source": [
    "@numba.njit\n",
    "def olg_det(r, k, w, alpha, beta, delta, c, a):\n",
    "    gc = np.empty(60, dtype=np.float64)\n",
    "    \n",
    "    dis = 0.\n",
    "    c_agg = 0.\n",
    "    for i in range(60):\n",
    "        dis = (beta*(1+r)/(1+r))**i + dis\n",
    "        c_agg = w / (1+r)**i + c_agg\n",
    "    for j in range(60):\n",
    "        gc[j] = (beta*(1+r))**j\n",
    "\n",
    "    c[0] =  c_agg/dis\n",
    "    c[1:60] = c[0] * gc[1:60]\n",
    "    for l in range(60):\n",
    "        a[l+1]=(1+r)*a[l] + w - c[l]\n",
    "    return np.sum(a), a, c"
   ]
  },
  {
   "cell_type": "code",
   "execution_count": 4,
   "metadata": {},
   "outputs": [
    {
     "name": "stdout",
     "output_type": "stream",
     "text": [
      "0:00:00.612088\n"
     ]
    }
   ],
   "source": [
    "c = np.empty(60, dtype=np.float64)\n",
    "a = np.zeros(61, dtype=np.float64)\n",
    "n = 60.\n",
    "\n",
    "count = 0\n",
    "err = 1.\n",
    "r_up = 1.0\n",
    "r_low = -0.1\n",
    "r = 0.01\n",
    "\n",
    "start = datetime.datetime.now()\n",
    "\n",
    "while err >=1e-7 and count <= 100:\n",
    "    k = ((r+delta)/alpha)**(1/(alpha-1))*n\n",
    "    w = (1-alpha)*(k/n)**alpha\n",
    "    kprime, a_fin, c_fin = olg_det(r, k, w, alpha, beta, delta, c, a)\n",
    "    \n",
    "    if kprime < k:\n",
    "        r_low = r\n",
    "    else:\n",
    "        r_up = r\n",
    "    r = 0.5*(r_up+r_low)\n",
    "    \n",
    "    err = np.abs(k-kprime)\n",
    "    count += 1\n",
    "    \n",
    "end = datetime.datetime.now()\n",
    "print(end-start)"
   ]
  },
  {
   "cell_type": "code",
   "execution_count": 5,
   "metadata": {},
   "outputs": [
    {
     "name": "stdout",
     "output_type": "stream",
     "text": [
      "In the equilibrium, the wage is 1.264,\n",
      "the interest rate is 0.743%,\n",
      "and the capital-output ratio is 3.351.\n"
     ]
    }
   ],
   "source": [
    "print('In the equilibrium, the wage is %4.3f,\\nthe interest rate is %4.3f%%,\\nand the capital-output ratio is %4.3f.'\n",
    "      % (w, r*100, k/(k**alpha*n**(1-alpha))))"
   ]
  },
  {
   "cell_type": "code",
   "execution_count": 6,
   "metadata": {},
   "outputs": [
    {
     "data": {
      "text/plain": [
       "<matplotlib.patches.FancyBboxPatch at 0x247896b9cf8>"
      ]
     },
     "execution_count": 6,
     "metadata": {},
     "output_type": "execute_result"
    },
    {
     "data": {
      "image/png": "[encoded data removed]",
      "text/plain": [
       "<Figure size 432x288 with 1 Axes>"
      ]
     },
     "metadata": {
      "needs_background": "light"
     },
     "output_type": "display_data"
    }
   ],
   "source": [
    "fig, ax = plt.subplots()\n",
    "ax.plot(np.linspace(1,60,60), c_fin, label='C')\n",
    "ax.plot(np.linspace(0,60,61), a_fin, label='A')\n",
    "ax.set_title(\"Lifetime consumption and asset\")\n",
    "ax.set_xlabel('age')\n",
    "\n",
    "legend = ax.legend(loc='upper left', shadow=True, fontsize='x-large')\n",
    "\n",
    "legend.get_frame()"
   ]
  },
  {
   "cell_type": "markdown",
   "metadata": {},
   "source": [
    "**2 With retirement**"
   ]
  },
  {
   "cell_type": "code",
   "execution_count": 7,
   "metadata": {},
   "outputs": [],
   "source": [
    "j_work = 45"
   ]
  },
  {
   "cell_type": "code",
   "execution_count": 8,
   "metadata": {},
   "outputs": [],
   "source": [
    "@numba.njit\n",
    "def olg_det_re(r, k, w, alpha, beta, delta, c, a, j_work):\n",
    "    \n",
    "    dis = 0.\n",
    "    c_agg = 0.\n",
    "    for i in range(60):\n",
    "        dis = (beta*(1+r)/(1+r))**i + dis\n",
    "        if i <=j_work-1:\n",
    "            c_agg = w / (1+r)**i + c_agg\n",
    "        \n",
    "    c[0] =  c_agg/dis\n",
    "    for j in range(59):\n",
    "        c[j+1]=c[0] * (beta*(1+r))**(j+1)\n",
    "    for l in range(60):\n",
    "        if l >= j_work:\n",
    "            a[l+1]=(1+r)*a[l] - c[l]\n",
    "        else:\n",
    "            a[l+1]=(1+r)*a[l] + w - c[l]\n",
    "    return np.sum(a), a, c"
   ]
  },
  {
   "cell_type": "code",
   "execution_count": 9,
   "metadata": {},
   "outputs": [
    {
     "name": "stdout",
     "output_type": "stream",
     "text": [
      "0:00:00.214477\n"
     ]
    }
   ],
   "source": [
    "c = np.empty(60, dtype=np.float64)\n",
    "a = np.zeros(61, dtype=np.float64)\n",
    "n = 45.\n",
    "\n",
    "count = 0\n",
    "err = 1.\n",
    "r_up = 1.0\n",
    "r_low = -0.1\n",
    "r = 0.01\n",
    "\n",
    "start = datetime.datetime.now()\n",
    "\n",
    "while err >=1e-7 and count <= 100:\n",
    "    k = ((r+delta)/alpha)**(1/(alpha-1))*n\n",
    "    w = (1-alpha)*(k/n)**alpha\n",
    "    kprime, a_fin, c_fin = olg_det_re(r, k, w, alpha, beta, delta, c, a, j_work)\n",
    "    \n",
    "    if kprime < k:\n",
    "        r_low = r\n",
    "    else:\n",
    "        r_up = r\n",
    "    r = 0.5*(r_up+r_low)\n",
    "    \n",
    "    err = np.abs(k-kprime)\n",
    "    count += 1\n",
    "    \n",
    "end = datetime.datetime.now()\n",
    "print(end-start)"
   ]
  },
  {
   "cell_type": "code",
   "execution_count": 10,
   "metadata": {},
   "outputs": [
    {
     "name": "stdout",
     "output_type": "stream",
     "text": [
      "In the equilibrium with retirement,\n",
      "the wage is 1.442,\n",
      "the interest rate is -1.508%,\n",
      "and the capital-output ratio is 4.239.\n"
     ]
    }
   ],
   "source": [
    "print('In the equilibrium with retirement,\\nthe wage is %4.3f,\\nthe interest rate is %4.3f%%,\\nand the capital-output ratio is %4.3f.'\n",
    "      % (w, r*100, k/(k**alpha*n**(1-alpha))))"
   ]
  },
  {
   "cell_type": "code",
   "execution_count": 11,
   "metadata": {},
   "outputs": [
    {
     "data": {
      "text/plain": [
       "<matplotlib.patches.FancyBboxPatch at 0x24789cb9c18>"
      ]
     },
     "execution_count": 11,
     "metadata": {},
     "output_type": "execute_result"
    },
    {
     "data": {
      "image/png": "[encoded data removed]",
      "text/plain": [
       "<Figure size 432x288 with 1 Axes>"
      ]
     },
     "metadata": {
      "needs_background": "light"
     },
     "output_type": "display_data"
    }
   ],
   "source": [
    "fig, ax = plt.subplots()\n",
    "ax.plot(np.linspace(1,60,60), c_fin, label='C')\n",
    "ax.plot(np.linspace(0,60,61), a_fin, label='A')\n",
    "ax.set_title(\"Lifetime consumption and asset with retirement\")\n",
    "ax.set_xlabel('age')\n",
    "\n",
    "legend = ax.legend(loc='upper left', shadow=True, fontsize='x-large')\n",
    "\n",
    "legend.get_frame()"
   ]
  },
  {
   "cell_type": "markdown",
   "metadata": {},
   "source": [
    "**3 With retirement and social security**"
   ]
  },
  {
   "cell_type": "code",
   "execution_count": 12,
   "metadata": {},
   "outputs": [
    {
     "name": "stdout",
     "output_type": "stream",
     "text": [
      "Given balanced budget of government and the value of ρ,\n",
      "the tax rate is 16.67%.\n"
     ]
    }
   ],
   "source": [
    "ρ=0.5\n",
    "τ=ρ*(j_max-j_work)/j_work\n",
    "\n",
    "print('Given balanced budget of government and the value of ρ,\\nthe tax rate is %1.2f%%.' % (τ*100))"
   ]
  },
  {
   "cell_type": "code",
   "execution_count": 13,
   "metadata": {},
   "outputs": [],
   "source": [
    "@numba.njit\n",
    "def olg_det_re_ss(r, k, w, alpha, beta, delta, c, a, j_work,ρ,τ):\n",
    "    \n",
    "    dis = 0.\n",
    "    c_agg = 0.\n",
    "    for i in range(60):\n",
    "        dis = (beta*(1+r)/(1+r))**i + dis\n",
    "        if i <=j_work-1:\n",
    "            c_agg = (1-τ)*w / (1+r)**i + c_agg\n",
    "        else:\n",
    "            c_agg = ρ*w / (1+r)**i + c_agg\n",
    "        \n",
    "    c[0] =  c_agg/dis\n",
    "    for j in range(59):\n",
    "        c[j+1]=c[0] * (beta*(1+r))**(j+1)\n",
    "    for l in range(60):\n",
    "        if l >= j_work:\n",
    "            a[l+1]=(1+r)*a[l] + ρ*w - c[l]\n",
    "        else:\n",
    "            a[l+1]=(1+r)*a[l] + (1-τ)*w - c[l]\n",
    "    return np.sum(a), a, c"
   ]
  },
  {
   "cell_type": "code",
   "execution_count": 14,
   "metadata": {},
   "outputs": [
    {
     "name": "stdout",
     "output_type": "stream",
     "text": [
      "0:00:00.231417\n"
     ]
    }
   ],
   "source": [
    "c = np.empty(60, dtype=np.float64)\n",
    "a = np.zeros(61, dtype=np.float64)\n",
    "n = 45.\n",
    "\n",
    "count = 0\n",
    "err = 1.\n",
    "r_up = 1.0\n",
    "r_low = -0.1\n",
    "r = 0.01\n",
    "\n",
    "start = datetime.datetime.now()\n",
    "\n",
    "while err >=1e-7 and count <= 100:\n",
    "    k = ((r+delta)/alpha)**(1/(alpha-1))*n\n",
    "    w = (1-alpha)*(k/n)**alpha\n",
    "    kprime, a_fin, c_fin = olg_det_re_ss(r, k, w, alpha, beta, delta, c, a, j_work,ρ,τ)\n",
    "    \n",
    "    if kprime < k:\n",
    "        r_low = r\n",
    "    else:\n",
    "        r_up = r\n",
    "    r = 0.5*(r_up+r_low)\n",
    "    \n",
    "    err = np.abs(k-kprime)\n",
    "    count += 1\n",
    "    \n",
    "end = datetime.datetime.now()\n",
    "print(end-start)"
   ]
  },
  {
   "cell_type": "code",
   "execution_count": 15,
   "metadata": {},
   "outputs": [
    {
     "name": "stdout",
     "output_type": "stream",
     "text": [
      "In the equilibrium with retirement and social security,\n",
      "the wage is 1.312,\n",
      "the interest rate is 0.045%,\n",
      "and the capital-output ratio is 3.584.\n"
     ]
    }
   ],
   "source": [
    "print('In the equilibrium with retirement and social security,\\nthe wage is %4.3f,\\nthe interest rate is %4.3f%%,\\nand the capital-output ratio is %4.3f.'\n",
    "      % (w, r*100, k/(k**alpha*n**(1-alpha))))"
   ]
  },
  {
   "cell_type": "code",
   "execution_count": 16,
   "metadata": {},
   "outputs": [
    {
     "data": {
      "text/plain": [
       "<matplotlib.patches.FancyBboxPatch at 0x2478af48438>"
      ]
     },
     "execution_count": 16,
     "metadata": {},
     "output_type": "execute_result"
    },
    {
     "data": {
      "image/png": "[encoded data removed]",
      "text/plain": [
       "<Figure size 432x288 with 1 Axes>"
      ]
     },
     "metadata": {
      "needs_background": "light"
     },
     "output_type": "display_data"
    }
   ],
   "source": [
    "fig, ax = plt.subplots()\n",
    "ax.plot(np.linspace(1,60,60), c_fin, label='C')\n",
    "ax.plot(np.linspace(0,60,61), a_fin, label='A')\n",
    "ax.set_title(\"Lifetime consumption and asset with retirement and ss\")\n",
    "ax.set_xlabel('age')\n",
    "\n",
    "legend = ax.legend(loc='upper left', shadow=True, fontsize='x-large')\n",
    "\n",
    "legend.get_frame()"
   ]
  },
  {
   "cell_type": "code",
   "execution_count": null,
   "metadata": {},
   "outputs": [],
   "source": []
  }
 ],
 "metadata": {
  "kernelspec": {
   "display_name": "Python 3",
   "language": "python",
   "name": "python3"
  },
  "language_info": {
   "codemirror_mode": {
    "name": "ipython",
    "version": 3
   },
   "file_extension": ".py",
   "mimetype": "text/x-python",
   "name": "python",
   "nbconvert_exporter": "python",
   "pygments_lexer": "ipython3",
   "version": "3.7.1"
  }
 },
 "nbformat": 4,
 "nbformat_minor": 2
}
