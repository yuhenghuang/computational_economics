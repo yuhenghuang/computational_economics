{
 "cells": [
  {
   "cell_type": "code",
   "execution_count": 1,
   "metadata": {},
   "outputs": [],
   "source": [
    "import numpy as np\n",
    "import numba\n",
    "import matplotlib.pyplot as plt"
   ]
  },
  {
   "cell_type": "code",
   "execution_count": 2,
   "metadata": {},
   "outputs": [],
   "source": [
    "beta =0.995\n",
    "delta = 1.5\n",
    "theta = 0.25\n",
    "y = 1.\n",
    "a_max = 8."
   ]
  },
  {
   "cell_type": "code",
   "execution_count": 3,
   "metadata": {},
   "outputs": [],
   "source": [
    "pienb = np.array([[22/23, 1/23],[0.5,0.5]], dtype=np.float64)"
   ]
  },
  {
   "cell_type": "code",
   "execution_count": 3,
   "metadata": {},
   "outputs": [],
   "source": [
    "bc_tran = np.array([[0.9375, 0.0625],[0.0625,0.9375]], dtype=np.float64)\n",
    "# gg gb\n",
    "# bg bb\n",
    "pieg = np.array([[0.975, 0.025],[0.6,0.4]], dtype=np.float64)\n",
    "pieb = np.array([[145/154, 9/154],[3/7,4/7]], dtype=np.float64)\n",
    "# ee eu\n",
    "# ue uu\n",
    "\n",
    "pie = np.repeat(bc_tran, 2, axis=0).repeat(2, axis=1) * np.tile(np.append(pieg, pieb, axis=1), (2, 1))\n",
    "# eg - eg, eg - ug, eg - eb, eg - ub\n",
    "# ug  - eg, ug - ug, ug- eb, ug - ub\n",
    "# eb - eg, eb - ug\n",
    "# ub - eg, ub - ug\n",
    "\n",
    "#s1 - s1, s1 - s2 ..\n",
    "#s2 - s1, s2 - s2 ..."
   ]
  },
  {
   "cell_type": "code",
   "execution_count": 4,
   "metadata": {},
   "outputs": [],
   "source": [
    "v = np.ones((301,4),dtype=np.float64)\n",
    "y_vec = np.tile(y * np.append(np.ones((301,1), dtype=np.float64), theta * np.ones((301,1), dtype=np.float64), axis=1), (1,2))\n",
    "#only the first two columns used in non-business-cycle model\n",
    "\n",
    "a_grid = np.linspace(0., a_max, 301)"
   ]
  },
  {
   "cell_type": "code",
   "execution_count": 5,
   "metadata": {},
   "outputs": [],
   "source": [
    "c = (y_vec + a_grid.reshape(301,1)).repeat(301, axis=1).reshape(301,4,301) - a_grid.reshape(1,301).repeat(4, axis = 0).reshape(1,4,301)\n",
    "c = np.clip(c, a_min=1e-10, a_max=10)\n",
    "#skip negative consumption will break the vector/matrix form, making the code hard to read.\n",
    "#though there should be some computational efficiency gain if the additional loops are compiled.\n",
    "\n",
    "#in the algorithm, I make negative consumption very small to maintain the matrix form\n",
    "cut = np.argmin(c, axis=2)"
   ]
  },
  {
   "cell_type": "code",
   "execution_count": 11,
   "metadata": {},
   "outputs": [
    {
     "ename": "KeyError",
     "evalue": "'gpu'",
     "output_type": "error",
     "traceback": [
      "\u001b[1;31m---------------------------------------------------------------------------\u001b[0m",
      "\u001b[1;31mKeyError\u001b[0m                                  Traceback (most recent call last)",
      "\u001b[1;32m<ipython-input-11-c37d8f9e39fb>\u001b[0m in \u001b[0;36m<module>\u001b[1;34m\u001b[0m\n\u001b[1;32m----> 1\u001b[1;33m \u001b[1;33m@\u001b[0m\u001b[0mnumba\u001b[0m\u001b[1;33m.\u001b[0m\u001b[0mjit\u001b[0m\u001b[1;33m(\u001b[0m\u001b[0mtarget\u001b[0m\u001b[1;33m=\u001b[0m\u001b[1;34m'gpu'\u001b[0m\u001b[1;33m)\u001b[0m\u001b[1;33m\u001b[0m\u001b[1;33m\u001b[0m\u001b[0m\n\u001b[0m\u001b[0;32m      2\u001b[0m \u001b[1;32mdef\u001b[0m \u001b[0mvalue_iter_jit\u001b[0m\u001b[1;33m(\u001b[0m\u001b[0mv\u001b[0m\u001b[1;33m,\u001b[0m \u001b[0mc\u001b[0m\u001b[1;33m,\u001b[0m \u001b[0mbeta\u001b[0m\u001b[1;33m,\u001b[0m \u001b[0mdelta\u001b[0m\u001b[1;33m,\u001b[0m \u001b[0mpie\u001b[0m\u001b[1;33m)\u001b[0m\u001b[1;33m:\u001b[0m\u001b[1;33m\u001b[0m\u001b[1;33m\u001b[0m\u001b[0m\n\u001b[0;32m      3\u001b[0m     \u001b[0mn\u001b[0m \u001b[1;33m=\u001b[0m \u001b[1;36m0\u001b[0m\u001b[1;33m\u001b[0m\u001b[1;33m\u001b[0m\u001b[0m\n\u001b[0;32m      4\u001b[0m     \u001b[0merr\u001b[0m \u001b[1;33m=\u001b[0m \u001b[1;36m1.\u001b[0m\u001b[1;33m\u001b[0m\u001b[1;33m\u001b[0m\u001b[0m\n\u001b[0;32m      5\u001b[0m     \u001b[0mdims\u001b[0m\u001b[1;33m=\u001b[0m\u001b[0mpie\u001b[0m\u001b[1;33m.\u001b[0m\u001b[0mshape\u001b[0m\u001b[1;33m[\u001b[0m\u001b[1;36m0\u001b[0m\u001b[1;33m]\u001b[0m\u001b[1;33m\u001b[0m\u001b[1;33m\u001b[0m\u001b[0m\n",
      "\u001b[1;32mD:\\Programming\\Anaconda3\\lib\\site-packages\\numba\\decorators.py\u001b[0m in \u001b[0;36mjit\u001b[1;34m(signature_or_function, locals, target, cache, pipeline_class, **options)\u001b[0m\n\u001b[0;32m    169\u001b[0m         \u001b[0mdispatcher_args\u001b[0m\u001b[1;33m[\u001b[0m\u001b[1;34m'pipeline_class'\u001b[0m\u001b[1;33m]\u001b[0m \u001b[1;33m=\u001b[0m \u001b[0mpipeline_class\u001b[0m\u001b[1;33m\u001b[0m\u001b[1;33m\u001b[0m\u001b[0m\n\u001b[0;32m    170\u001b[0m     wrapper = _jit(sigs, locals=locals, target=target, cache=cache,\n\u001b[1;32m--> 171\u001b[1;33m                    targetoptions=options, **dispatcher_args)\n\u001b[0m\u001b[0;32m    172\u001b[0m     \u001b[1;32mif\u001b[0m \u001b[0mpyfunc\u001b[0m \u001b[1;32mis\u001b[0m \u001b[1;32mnot\u001b[0m \u001b[1;32mNone\u001b[0m\u001b[1;33m:\u001b[0m\u001b[1;33m\u001b[0m\u001b[1;33m\u001b[0m\u001b[0m\n\u001b[0;32m    173\u001b[0m         \u001b[1;32mreturn\u001b[0m \u001b[0mwrapper\u001b[0m\u001b[1;33m(\u001b[0m\u001b[0mpyfunc\u001b[0m\u001b[1;33m)\u001b[0m\u001b[1;33m\u001b[0m\u001b[1;33m\u001b[0m\u001b[0m\n",
      "\u001b[1;32mD:\\Programming\\Anaconda3\\lib\\site-packages\\numba\\decorators.py\u001b[0m in \u001b[0;36m_jit\u001b[1;34m(sigs, locals, target, cache, targetoptions, **dispatcher_args)\u001b[0m\n\u001b[0;32m    177\u001b[0m \u001b[1;33m\u001b[0m\u001b[0m\n\u001b[0;32m    178\u001b[0m \u001b[1;32mdef\u001b[0m \u001b[0m_jit\u001b[0m\u001b[1;33m(\u001b[0m\u001b[0msigs\u001b[0m\u001b[1;33m,\u001b[0m \u001b[0mlocals\u001b[0m\u001b[1;33m,\u001b[0m \u001b[0mtarget\u001b[0m\u001b[1;33m,\u001b[0m \u001b[0mcache\u001b[0m\u001b[1;33m,\u001b[0m \u001b[0mtargetoptions\u001b[0m\u001b[1;33m,\u001b[0m \u001b[1;33m**\u001b[0m\u001b[0mdispatcher_args\u001b[0m\u001b[1;33m)\u001b[0m\u001b[1;33m:\u001b[0m\u001b[1;33m\u001b[0m\u001b[1;33m\u001b[0m\u001b[0m\n\u001b[1;32m--> 179\u001b[1;33m     \u001b[0mdispatcher\u001b[0m \u001b[1;33m=\u001b[0m \u001b[0mregistry\u001b[0m\u001b[1;33m.\u001b[0m\u001b[0mdispatcher_registry\u001b[0m\u001b[1;33m[\u001b[0m\u001b[0mtarget\u001b[0m\u001b[1;33m]\u001b[0m\u001b[1;33m\u001b[0m\u001b[1;33m\u001b[0m\u001b[0m\n\u001b[0m\u001b[0;32m    180\u001b[0m \u001b[1;33m\u001b[0m\u001b[0m\n\u001b[0;32m    181\u001b[0m     \u001b[1;32mdef\u001b[0m \u001b[0mwrapper\u001b[0m\u001b[1;33m(\u001b[0m\u001b[0mfunc\u001b[0m\u001b[1;33m)\u001b[0m\u001b[1;33m:\u001b[0m\u001b[1;33m\u001b[0m\u001b[1;33m\u001b[0m\u001b[0m\n",
      "\u001b[1;32mD:\\Programming\\Anaconda3\\lib\\site-packages\\numba\\targets\\registry.py\u001b[0m in \u001b[0;36m__getitem__\u001b[1;34m(self, item)\u001b[0m\n\u001b[0;32m    101\u001b[0m             \u001b[0mself\u001b[0m\u001b[1;33m[\u001b[0m\u001b[0mitem\u001b[0m\u001b[1;33m]\u001b[0m \u001b[1;33m=\u001b[0m \u001b[0mself\u001b[0m\u001b[1;33m.\u001b[0m\u001b[0mondemand\u001b[0m\u001b[1;33m[\u001b[0m\u001b[0mitem\u001b[0m\u001b[1;33m]\u001b[0m\u001b[1;33m(\u001b[0m\u001b[1;33m)\u001b[0m\u001b[1;33m\u001b[0m\u001b[1;33m\u001b[0m\u001b[0m\n\u001b[0;32m    102\u001b[0m             \u001b[1;32mdel\u001b[0m \u001b[0mself\u001b[0m\u001b[1;33m.\u001b[0m\u001b[0mondemand\u001b[0m\u001b[1;33m[\u001b[0m\u001b[0mitem\u001b[0m\u001b[1;33m]\u001b[0m\u001b[1;33m\u001b[0m\u001b[1;33m\u001b[0m\u001b[0m\n\u001b[1;32m--> 103\u001b[1;33m         \u001b[1;32mreturn\u001b[0m \u001b[0msuper\u001b[0m\u001b[1;33m(\u001b[0m\u001b[0mTargetRegistry\u001b[0m\u001b[1;33m,\u001b[0m \u001b[0mself\u001b[0m\u001b[1;33m)\u001b[0m\u001b[1;33m.\u001b[0m\u001b[0m__getitem__\u001b[0m\u001b[1;33m(\u001b[0m\u001b[0mitem\u001b[0m\u001b[1;33m)\u001b[0m\u001b[1;33m\u001b[0m\u001b[1;33m\u001b[0m\u001b[0m\n\u001b[0m\u001b[0;32m    104\u001b[0m \u001b[1;33m\u001b[0m\u001b[0m\n\u001b[0;32m    105\u001b[0m \u001b[1;33m\u001b[0m\u001b[0m\n",
      "\u001b[1;31mKeyError\u001b[0m: 'gpu'"
     ]
    }
   ],
   "source": [
    "@numba.njit\n",
    "def value_iter_jit(v, c, beta, delta, pie):\n",
    "    n = 0\n",
    "    err = 1.\n",
    "    dims=pie.shape[0]\n",
    "    while err > 1e-8 and n <= 4000:\n",
    "        \n",
    "        vn = v.copy()\n",
    "        expc = pie @ np.transpose(v)\n",
    "        u = c ** (1 - delta) / (1 - delta)\n",
    "        temp = u + beta * expc.reshape(1, dims, 301)\n",
    "        for i in range(301):\n",
    "            for j in range(dims):\n",
    "                v[i,j] =  np.max(temp[i,j,:])\n",
    "\n",
    "        if n % 10 == 0:        \n",
    "            err = np.max(np.abs(v - vn))\n",
    "            \n",
    "        n += 1\n",
    "    return vn, temp"
   ]
  },
  {
   "cell_type": "code",
   "execution_count": 8,
   "metadata": {},
   "outputs": [],
   "source": [
    "@numba.njit\n",
    "def value_iter_jit_cut(v, c, cut, beta, delta, pie):\n",
    "    n = 0\n",
    "    err = 1.\n",
    "    dims=pie.shape[0]\n",
    "    cut=cut[:,0:dims]\n",
    "    temp=np.ones((301,4,301), dtype=np.float64) * (-20000)\n",
    "    while err > 1e-8 and n <= 4000:\n",
    "        \n",
    "        vn = v.copy()\n",
    "        for k in range(301):\n",
    "            for l in range(dims):\n",
    "                for m in range(cut[k,l]):\n",
    "                    temp[k,l,m]= beta * pie[l,:] @ np.transpose(v)[:,m] +  c[k,l,m] ** (1 - delta) / (1 - delta)\n",
    "        for i in range(301):\n",
    "            for j in range(dims):\n",
    "                v[i,j] =  np.max(temp[i,j,0:cut[i,j]])\n",
    "\n",
    "        if n % 10 == 0:        \n",
    "            err = np.max(np.abs(v - vn))\n",
    "            \n",
    "        n += 1\n",
    "    return vn, temp"
   ]
  },
  {
   "cell_type": "code",
   "execution_count": 20,
   "metadata": {},
   "outputs": [],
   "source": [
    "vn_nb,temp = value_iter_jit(v[:,0:2], c[:,0:2], beta, delta, pienb)\n",
    "plcnb = np.argmax(temp, axis=2)\n",
    "#solve for the value function and then find the decision rules"
   ]
  },
  {
   "cell_type": "code",
   "execution_count": 9,
   "metadata": {},
   "outputs": [
    {
     "data": {
      "text/plain": [
       "<matplotlib.patches.FancyBboxPatch at 0x15f674ece80>"
      ]
     },
     "execution_count": 9,
     "metadata": {},
     "output_type": "execute_result"
    },
    {
     "data": {
      "image/png": "[encoded data removed]",
      "text/plain": [
       "<Figure size 432x288 with 1 Axes>"
      ]
     },
     "metadata": {
      "needs_background": "light"
     },
     "output_type": "display_data"
    }
   ],
   "source": [
    "fig, ax = plt.subplots()\n",
    "ax.plot(a_grid, plcnb[:,0]/300*a_max, label='e')\n",
    "ax.plot(a_grid, plcnb[:,1]/300*a_max, label='u')\n",
    "ax.plot(a_grid, a_grid, label='45 degree')\n",
    "ax.set_title(\"Decision Rule in Non-BC Economy\")\n",
    "ax.set_xlabel('a')\n",
    "ax.set_ylabel('a\\'')\n",
    "\n",
    "legend = ax.legend(loc='upper left', shadow=True, fontsize='x-large')\n",
    "\n",
    "legend.get_frame()\n",
    "#fig.savefig('A1_graphs/plc_nb.png', dpi=500)\n",
    "#fig.savefig('A1_graphs/plc_nb_6.png', dpi=500)\n",
    "#..."
   ]
  },
  {
   "cell_type": "code",
   "execution_count": 31,
   "metadata": {},
   "outputs": [],
   "source": [
    "@numba.njit\n",
    "def demo_iter(demo, plc, pie):\n",
    "    err = 1.\n",
    "    n = 0\n",
    "    dims = pie.shape[1]\n",
    "    while err > 1e-10 and n <= 4000:\n",
    "        demon = np.zeros((301,dims), dtype=np.float64)\n",
    "        for i in range(301):\n",
    "            for j in range(dims):\n",
    "                aprime = plc[i,j]\n",
    "                demon[aprime,:]=demo[i,j]*pie[j,:] + demon[aprime,:]\n",
    "        \n",
    "        if n % 5 == 0:        \n",
    "            err = np.max(np.abs(demon - demo))\n",
    "            \n",
    "        demo = demon.copy()\n",
    "        n += 1\n",
    "    return demon, n"
   ]
  },
  {
   "cell_type": "code",
   "execution_count": 32,
   "metadata": {},
   "outputs": [],
   "source": [
    "demo = np.ones((301,4), dtype=np.float64) / (301*4)\n",
    "#only the first two columns used in non-business-cycle model"
   ]
  },
  {
   "cell_type": "code",
   "execution_count": 12,
   "metadata": {},
   "outputs": [
    {
     "data": {
      "text/plain": [
       "True"
      ]
     },
     "execution_count": 12,
     "metadata": {},
     "output_type": "execute_result"
    }
   ],
   "source": [
    "demo_nb, times = demo_iter(demo[:,0:2]*2, plcnb, pienb)\n",
    "np.abs(demo_nb.sum()-1) < 1e-7\n",
    "#sum == 1 confirmed"
   ]
  },
  {
   "cell_type": "code",
   "execution_count": 13,
   "metadata": {},
   "outputs": [
    {
     "data": {
      "text/plain": [
       "<matplotlib.patches.FancyBboxPatch at 0x15f67a08588>"
      ]
     },
     "execution_count": 13,
     "metadata": {},
     "output_type": "execute_result"
    },
    {
     "data": {
      "image/png": "[encoded data removed]",
      "text/plain": [
       "<Figure size 432x288 with 1 Axes>"
      ]
     },
     "metadata": {
      "needs_background": "light"
     },
     "output_type": "display_data"
    }
   ],
   "source": [
    "fig, ax = plt.subplots()\n",
    "ax.plot(a_grid, demo_nb[:,0], label='e')\n",
    "ax.plot(a_grid, demo_nb[:,1], label='u')\n",
    "ax.set_title(\"Invariant Distribution in non-BC Economy\")\n",
    "ax.set_xlabel('a')\n",
    "\n",
    "legend = ax.legend(loc='upper left', shadow=True, fontsize='x-large')\n",
    "\n",
    "legend.get_frame()\n",
    "#fig.savefig('A1_graphs/dis_nb.png', dpi=500)\n",
    "#fig.savefig('A1_graphs/dis_nb6.png', dpi=500)"
   ]
  },
  {
   "cell_type": "code",
   "execution_count": 14,
   "metadata": {},
   "outputs": [
    {
     "data": {
      "text/plain": [
       "(2.3194718727901793, 1.8463451451145838)"
      ]
     },
     "execution_count": 14,
     "metadata": {},
     "output_type": "execute_result"
    }
   ],
   "source": [
    "np.sum(demo_nb[:,0]*a_grid/demo_nb[:,0].sum()),np.sum(demo_nb[:,1]*a_grid/demo_nb[:,1].sum())"
   ]
  },
  {
   "cell_type": "code",
   "execution_count": 33,
   "metadata": {},
   "outputs": [],
   "source": [
    "vn_b,temp = value_iter_jit(v, c, beta, delta, pie)\n",
    "plcb = np.argmax(temp, axis=2)"
   ]
  },
  {
   "cell_type": "code",
   "execution_count": 35,
   "metadata": {},
   "outputs": [
    {
     "data": {
      "text/plain": [
       "True"
      ]
     },
     "execution_count": 35,
     "metadata": {},
     "output_type": "execute_result"
    }
   ],
   "source": [
    "demo_b, times = demo_iter(demo, plcb, pie)\n",
    "np.abs(demo_b.sum()-1) < 1e-7\n",
    "#sum == 1 confirmed"
   ]
  },
  {
   "cell_type": "code",
   "execution_count": 36,
   "metadata": {},
   "outputs": [
    {
     "data": {
      "text/plain": [
       "<matplotlib.patches.FancyBboxPatch at 0x1cf4f27e5c0>"
      ]
     },
     "execution_count": 36,
     "metadata": {},
     "output_type": "execute_result"
    },
    {
     "data": {
      "image/png": "[encoded data removed]",
      "text/plain": [
       "<Figure size 432x288 with 1 Axes>"
      ]
     },
     "metadata": {
      "needs_background": "light"
     },
     "output_type": "display_data"
    }
   ],
   "source": [
    "fig, ax = plt.subplots()\n",
    "ax.plot(a_grid, demo_b[:,0], label='e')\n",
    "ax.plot(a_grid, demo_b[:,1], label='u')\n",
    "ax.set_title(\"Invariant Distribution in BC Economy, Good Times\")\n",
    "ax.set_xlabel('a')\n",
    "\n",
    "legend = ax.legend(loc='upper left', shadow=True, fontsize='x-large')\n",
    "\n",
    "legend.get_frame()\n",
    "#fig.savefig('A1_graphs/dis_b_g.png', dpi=500)\n",
    "#fig.savefig('A1_graphs/dis_b_g6.png', dpi=500)"
   ]
  },
  {
   "cell_type": "code",
   "execution_count": 37,
   "metadata": {},
   "outputs": [
    {
     "data": {
      "text/plain": [
       "<matplotlib.patches.FancyBboxPatch at 0x1cf4eeeac50>"
      ]
     },
     "execution_count": 37,
     "metadata": {},
     "output_type": "execute_result"
    },
    {
     "data": {
      "image/png": "[encoded data removed]",
      "text/plain": [
       "<Figure size 432x288 with 1 Axes>"
      ]
     },
     "metadata": {
      "needs_background": "light"
     },
     "output_type": "display_data"
    }
   ],
   "source": [
    "fig, ax = plt.subplots()\n",
    "ax.plot(a_grid, demo_b[:,2], label='e')\n",
    "ax.plot(a_grid, demo_b[:,3], label='u')\n",
    "ax.set_title(\"Invariant Distribution in BC Economy, Bad Times\")\n",
    "ax.set_xlabel('a')\n",
    "\n",
    "legend = ax.legend(loc='upper left', shadow=True, fontsize='x-large')\n",
    "\n",
    "legend.get_frame()\n",
    "#fig.savefig('A1_graphs/dis_b_b.png', dpi=500)\n",
    "#fig.savefig('A1_graphs/dis_b_b6.png', dpi=500)"
   ]
  },
  {
   "cell_type": "code",
   "execution_count": 19,
   "metadata": {},
   "outputs": [
    {
     "data": {
      "text/plain": [
       "(2.369595114729209, 1.8626909417372355)"
      ]
     },
     "execution_count": 19,
     "metadata": {},
     "output_type": "execute_result"
    }
   ],
   "source": [
    "np.sum((demo_b[:,0]+demo_b[:,2])*a_grid/(demo_b[:,0]+demo_b[:,2]).sum()),np.sum((demo_b[:,1]+demo_b[:,3])*a_grid/(demo_b[:,1]+demo_b[:,3]).sum())"
   ]
  },
  {
   "cell_type": "code",
   "execution_count": 73,
   "metadata": {},
   "outputs": [
    {
     "data": {
      "text/plain": [
       "array([0.06598158, 0.00169184, 0.02627581, 0.00163091])"
      ]
     },
     "execution_count": 73,
     "metadata": {},
     "output_type": "execute_result"
    }
   ],
   "source": [
    "np.max(demo_b, axis=0)"
   ]
  },
  {
   "cell_type": "code",
   "execution_count": 78,
   "metadata": {},
   "outputs": [
    {
     "data": {
      "text/plain": [
       "0.0016309126464959132"
      ]
     },
     "execution_count": 78,
     "metadata": {},
     "output_type": "execute_result"
    }
   ],
   "source": [
    "demo_b[128,3]"
   ]
  },
  {
   "cell_type": "code",
   "execution_count": null,
   "metadata": {},
   "outputs": [],
   "source": []
  }
 ],
 "metadata": {
  "kernelspec": {
   "display_name": "Python 3",
   "language": "python",
   "name": "python3"
  },
  "language_info": {
   "codemirror_mode": {
    "name": "ipython",
    "version": 3
   },
   "file_extension": ".py",
   "mimetype": "text/x-python",
   "name": "python",
   "nbconvert_exporter": "python",
   "pygments_lexer": "ipython3",
   "version": "3.7.1"
  }
 },
 "nbformat": 4,
 "nbformat_minor": 2
}
