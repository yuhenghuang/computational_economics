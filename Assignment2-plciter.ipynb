{
 "cells": [
  {
   "cell_type": "code",
   "execution_count": 1,
   "metadata": {},
   "outputs": [],
   "source": [
    "import numpy as np\n",
    "import numba\n",
    "import quantecon as qe\n",
    "import matplotlib.pyplot as plt\n",
    "import datetime\n",
    "import interpolation"
   ]
  },
  {
   "cell_type": "code",
   "execution_count": 2,
   "metadata": {},
   "outputs": [],
   "source": [
    "beta=0.96\n",
    "alpha=0.36\n",
    "delta=0.08\n",
    "a_max = 25.\n",
    "b=3."
   ]
  },
  {
   "cell_type": "code",
   "execution_count": 3,
   "metadata": {},
   "outputs": [],
   "source": [
    "#rho=0.2\n",
    "rho=0.4\n",
    "\n",
    "#mu=0\n",
    "mu=3.\n",
    "#mu=5\n",
    "\n",
    "#sigma=0\n",
    "sigma=0.4\n",
    "#sigma=0.6\n",
    "#sigma=0.9"
   ]
  },
  {
   "cell_type": "code",
   "execution_count": 4,
   "metadata": {},
   "outputs": [],
   "source": [
    "x = qe.markov.approximation.tauchen(rho,sigma*(1-rho**2)**0.5, m = 3,n = 7)\n",
    "l_grid = np.exp(x.state_values)\n",
    "l_dis = x.stationary_distributions\n",
    "L = np.sum(l_grid * l_dis)\n",
    "l_min=l_grid[0]\n",
    "piel = x.P"
   ]
  },
  {
   "cell_type": "code",
   "execution_count": 5,
   "metadata": {},
   "outputs": [],
   "source": [
    "def optim_sv(phi, a_max, a, l, tras, full, r, w, mu, beta):\n",
    "    err = 1.\n",
    "    n = 0\n",
    "    \n",
    "    a_low = -phi\n",
    "    a_up = a_max\n",
    "    \n",
    "    while err>5e-4 and n <=25:\n",
    "        ap=0.5*(a_low+a_up)\n",
    "        err=((1+r)*a+w*l-ap) ** (-mu) - beta * (1+r)* (((1+r)*ap + w*l_grid - full(ap)) ** (-mu)) @ tras\n",
    "        if err>0:\n",
    "            a_up = ap\n",
    "        else:\n",
    "            a_low = ap\n",
    "        \n",
    "        n+=1\n",
    "    return ap"
   ]
  },
  {
   "cell_type": "code",
   "execution_count": 19,
   "metadata": {},
   "outputs": [],
   "source": [
    "def plc_iter(phi, a_max, beta, mu, piel, r, w, l_grid):\n",
    "    \n",
    "    a_grid = np.linspace(-phi, a_max, 601, dtype=np.float64)\n",
    "    drn = np.ones((601,7), dtype=np.float64)*12.\n",
    "    \n",
    "    def obj_fct(ap, a, l, tras):\n",
    "        res = ((1+r)*a+w*l-ap) ** (-mu) - beta * (1+r)* (((1+r)*ap + w*l_grid - full(ap)) ** (-mu)) @tras\n",
    "        return res\n",
    "    n=0\n",
    "    err=1.    \n",
    "    \n",
    "    while err > 1e-3 and n <= 1000:\n",
    "        dr0=drn.copy()\n",
    "        full = si.interp1d(a_grid, drn, axis=0, fill_value='extrapolate')\n",
    "        for i in range(601):\n",
    "            for j in range(7):\n",
    "                if obj_fct(-phi, a_grid[i], l_grid[j], piel[j,:])>=0:\n",
    "                    drn[i,j] = -phi\n",
    "                elif obj_fct(a_max, a_grid[i], l_grid[j], piel[j,:])<=0:\n",
    "                    drn[i,j] = a_max\n",
    "                else:\n",
    "                    drn[i,j] = optim_sv(phi, a_max, a_grid[i], l_grid[j], piel[j,:], full, r, w, mu, beta)\n",
    "    \n",
    "        if n % 10 == 0:\n",
    "            err = np.max(np.abs(drn-dr0))\n",
    "\n",
    "        n+=1\n",
    "    \n",
    "    if n==1000:\n",
    "        print('plc_over')\n",
    "    \n",
    "    return drn"
   ]
  },
  {
   "cell_type": "code",
   "execution_count": 20,
   "metadata": {},
   "outputs": [
    {
     "data": {
      "text/plain": [
       "array([[0.5  , 0.5  , 0.5  , ..., 0.5  , 0.5  , 0.5  ],\n",
       "       [0.5  , 0.5  , 0.5  , ..., 0.5  , 0.5  , 0.5  ],\n",
       "       [0.5  , 0.5  , 0.5  , ..., 0.5  , 0.5  , 0.5  ],\n",
       "       ...,\n",
       "       [6.625, 6.625, 6.625, ..., 6.625, 6.625, 6.625],\n",
       "       [6.625, 6.625, 6.625, ..., 6.625, 6.625, 6.625],\n",
       "       [6.625, 6.625, 6.625, ..., 6.625, 6.625, 6.625]])"
      ]
     },
     "execution_count": 20,
     "metadata": {},
     "output_type": "execute_result"
    }
   ],
   "source": [
    "k = (((0.36+delta)/(alpha * L**(1-alpha)))) ** (1/(alpha-1))\n",
    "w = (1-alpha) * (k**alpha) * (L**(-alpha))\n",
    "\n",
    "plc=plc_iter(-0.5, 25., 0.96, 3., piel, 0.36, w, l_grid)"
   ]
  },
  {
   "cell_type": "code",
   "execution_count": 13,
   "metadata": {},
   "outputs": [],
   "source": [
    "@numba.njit\n",
    "def demo_iter(a_grid, phi, a_max, plc, pie):\n",
    "    err = 1.\n",
    "    n = 0\n",
    "    \n",
    "    demon = np.ones((601,7), dtype=np.float64) / (601*7)\n",
    "    \n",
    "    itv = (a_max+phi)/1200\n",
    "    a_itv = np.empty((601,2), dtype=np.float64)\n",
    "    a_itv[:,0] = a_grid - itv\n",
    "    a_itv[:,1] = a_grid + itv\n",
    "    \n",
    "    while err > 1e-6 and n <= 1000:\n",
    "        demo = demon.copy()\n",
    "        temp = np.zeros((601*7,8), dtype=np.float64)\n",
    "        demon = np.zeros((601,7), dtype=np.float64)\n",
    "        for i in range(601):\n",
    "            for j in range(7):\n",
    "                temp[i*7+j,0]=plc[i,j]\n",
    "                temp[i*7+j,1:8]=demo[i,j] * pie[j,:]\n",
    "        \n",
    "        for k in range(601):\n",
    "            location = np.where(np.logical_and(np.greater_equal(temp[:,0],a_itv[k,0]), np.less(temp[:,0],a_itv[k,1])))\n",
    "            for l in location:\n",
    "                demon[k,:] = np.sum(temp[l,1:8], axis=0)\n",
    "        \n",
    "        if n % 10 == 0:        \n",
    "            err = np.max(np.abs(demon - demo))\n",
    "            \n",
    "        n += 1\n",
    "    return demon"
   ]
  },
  {
   "cell_type": "code",
   "execution_count": 14,
   "metadata": {},
   "outputs": [
    {
     "name": "stdout",
     "output_type": "stream",
     "text": [
      "0\n",
      "10\n",
      "20\n",
      "0:05:15.249924\n"
     ]
    }
   ],
   "source": [
    "err = 1.\n",
    "count = 0\n",
    "r = 0.01\n",
    "\n",
    "#momentum = 0.15\n",
    "#lr = 0.001\n",
    "#decay = 0.98\n",
    "r_low=-0.04\n",
    "r_up=(1-beta)/beta\n",
    "start = datetime.datetime.now()\n",
    "\n",
    "while err >= 15e-4 and count <= 20:\n",
    "    k = (((r+delta)/(alpha * L**(1-alpha)))) ** (1/(alpha-1))\n",
    "    w = (1-alpha) * (k**alpha) * (L**(-alpha))\n",
    "    \n",
    "    if r > 0:\n",
    "        phi = min(b, w*l_min/r)\n",
    "    else:\n",
    "        phi = b\n",
    "    \n",
    "    a_grid = np.linspace(-phi, a_max, 601, dtype=np.float64)\n",
    "    plc = plc_iter(phi, a_max, beta, mu, piel, r, w, l_grid)\n",
    "    demo = demo_iter(a_grid, phi, a_max, plc, piel)\n",
    "    kprime = np.sum(demo*a_grid.reshape(-1,1))\n",
    "    \n",
    "    err = np.abs(k - kprime)\n",
    "    if kprime < k:\n",
    "        r_low = r\n",
    "    else:\n",
    "        r_up = r\n",
    "    r = 0.5*(r_up+r_low)\n",
    "    \n",
    "    if count % 10 ==0:\n",
    "        print(count)\n",
    "    \n",
    "    count += 1\n",
    "\n",
    "end = datetime.datetime.now()\n",
    "print(end-start)"
   ]
  },
  {
   "cell_type": "code",
   "execution_count": 16,
   "metadata": {},
   "outputs": [
    {
     "data": {
      "text/plain": [
       "(6.390075882618307, 6.388724934722765, 0.03617273966471357, 1.2091523735138896)"
      ]
     },
     "execution_count": 16,
     "metadata": {},
     "output_type": "execute_result"
    }
   ],
   "source": [
    "k, kprime, r, w"
   ]
  },
  {
   "cell_type": "code",
   "execution_count": 15,
   "metadata": {},
   "outputs": [
    {
     "data": {
      "text/plain": [
       "(33.80696520502107,\n",
       " 8.045887039317522e+301,\n",
       " -0.03999997615814209,\n",
       " 2.2026276886679885)"
      ]
     },
     "execution_count": 15,
     "metadata": {},
     "output_type": "execute_result"
    }
   ],
   "source": [
    "k, kprime, r, w"
   ]
  },
  {
   "cell_type": "code",
   "execution_count": 13,
   "metadata": {},
   "outputs": [
    {
     "data": {
      "text/plain": [
       "1.0773325810396563"
      ]
     },
     "execution_count": 13,
     "metadata": {},
     "output_type": "execute_result"
    }
   ],
   "source": [
    "w"
   ]
  },
  {
   "cell_type": "code",
   "execution_count": 11,
   "metadata": {},
   "outputs": [
    {
     "data": {
      "text/plain": [
       "0.06263229728210717"
      ]
     },
     "execution_count": 11,
     "metadata": {},
     "output_type": "execute_result"
    }
   ],
   "source": [
    "r"
   ]
  },
  {
   "cell_type": "code",
   "execution_count": 17,
   "metadata": {},
   "outputs": [
    {
     "data": {
      "text/plain": [
       "array([[-3., -3., -3., ..., 11., 11., 11.],\n",
       "       [-3., -3., -3., ..., 11., 11., 11.],\n",
       "       [-3., -3., -3., ..., 11., 11., 11.],\n",
       "       ...,\n",
       "       [11., 11., 11., ..., 11., 11., 11.],\n",
       "       [11., 11., 11., ..., 11., 11., 11.],\n",
       "       [11., 25., 11., ..., 11., 11., 11.]])"
      ]
     },
     "execution_count": 17,
     "metadata": {},
     "output_type": "execute_result"
    }
   ],
   "source": []
  },
  {
   "cell_type": "code",
   "execution_count": 12,
   "metadata": {},
   "outputs": [],
   "source": [
    "r=0.01\n",
    "w=1.2\n",
    "a_grid = np.linspace(-3, a_max, 601, dtype=np.float64)\n",
    "drn = np.repeat(a_grid.reshape(-1,1), 7, axis=1)\n",
    "full = si.interp1d(a_grid,drn, axis=0, fill_value='extrapolate')"
   ]
  },
  {
   "cell_type": "code",
   "execution_count": 1,
   "metadata": {},
   "outputs": [],
   "source": [
    "def obj_fct(ap, a, l, tras):\n",
    "        res = ((1+r)*a+w*l-ap) ** (-mu) - beta * (1+r)* ((1+r)*ap + w*l_grid - full(ap)) ** (-mu) @tras\n",
    "        return res"
   ]
  },
  {
   "cell_type": "code",
   "execution_count": null,
   "metadata": {},
   "outputs": [],
   "source": []
  }
 ],
 "metadata": {
  "kernelspec": {
   "display_name": "Python 3",
   "language": "python",
   "name": "python3"
  },
  "language_info": {
   "codemirror_mode": {
    "name": "ipython",
    "version": 3
   },
   "file_extension": ".py",
   "mimetype": "text/x-python",
   "name": "python",
   "nbconvert_exporter": "python",
   "pygments_lexer": "ipython3",
   "version": "3.7.1"
  }
 },
 "nbformat": 4,
 "nbformat_minor": 2
}
