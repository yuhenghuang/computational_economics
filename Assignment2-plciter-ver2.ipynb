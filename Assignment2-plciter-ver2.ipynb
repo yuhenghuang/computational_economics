{
 "cells": [
  {
   "cell_type": "code",
   "execution_count": 9,
   "metadata": {},
   "outputs": [],
   "source": [
    "import numpy as np\n",
    "import numba\n",
    "import quantecon as qe\n",
    "import matplotlib.pyplot as plt\n",
    "import datetime\n",
    "import interpolation"
   ]
  },
  {
   "cell_type": "code",
   "execution_count": 10,
   "metadata": {},
   "outputs": [],
   "source": [
    "beta=0.96\n",
    "alpha=0.36\n",
    "delta=0.08\n",
    "a_max = 25.\n",
    "b=3."
   ]
  },
  {
   "cell_type": "code",
   "execution_count": 11,
   "metadata": {},
   "outputs": [],
   "source": [
    "#rho=0.2\n",
    "rho=0.4\n",
    "\n",
    "#mu=0\n",
    "mu=3.\n",
    "#mu=5\n",
    "\n",
    "#sigma=0\n",
    "sigma=0.4\n",
    "#sigma=0.6\n",
    "#sigma=0.9"
   ]
  },
  {
   "cell_type": "code",
   "execution_count": 12,
   "metadata": {},
   "outputs": [],
   "source": [
    "x = qe.markov.approximation.tauchen(rho,sigma*(1-rho**2)**0.5, m = 3,n = 7)\n",
    "l_grid = np.exp(x.state_values)\n",
    "l_dis = x.stationary_distributions\n",
    "L = np.sum(l_grid * l_dis)\n",
    "l_min=l_grid[0]\n",
    "piel = x.P"
   ]
  },
  {
   "cell_type": "code",
   "execution_count": 40,
   "metadata": {},
   "outputs": [],
   "source": [
    "def plc_iter(phi, beta, mu, trans, r, w, a_grid, l_grid):\n",
    "    \n",
    "    cons = np.empty((601,7), dtype=np.float64)\n",
    "    a_temp = np.empty((601,7), dtype=np.float64)\n",
    "    drn = np.ones((601,7), dtype=np.float64)*12.\n",
    "    \n",
    "    n=0\n",
    "    err=1.    \n",
    "    \n",
    "    while err > 1e-5 and n <= 1000:\n",
    "        dr0=drn.copy()\n",
    "        cons = (beta*(1+r) * ((drn)**(-mu)) @ trans) ** (-1/mu)\n",
    "        a_temp = (cons + a_grid - w*l_grid)/(1+r)\n",
    "        for i in range(7):\n",
    "            location = np.where(a_grid<=a_temp[0,i])\n",
    "            if location[0].shape[0]==0:\n",
    "                sup = 0\n",
    "            else:\n",
    "                sup = np.max(location[0])+1\n",
    "            drn[sup:601,i] = interpolation.interp(a_temp[:,i], cons[:,i], a_grid[sup:601,0])\n",
    "            drn[0:sup,i] = (1+r)*a_grid[0:sup,0] + w*l_grid[0,i] + phi\n",
    "    \n",
    "        if n % 5 == 0:\n",
    "            err = np.max(np.abs(drn-dr0))\n",
    "        n+=1\n",
    "    \n",
    "    fin = (1+r)*a_grid + w*l_grid - drn\n",
    "    return fin"
   ]
  },
  {
   "cell_type": "code",
   "execution_count": 5,
   "metadata": {},
   "outputs": [],
   "source": [
    "@numba.njit\n",
    "def plc_iter(phi, beta, mu, trans, r, w, a_grid, l_grid):\n",
    "    \n",
    "    cons = np.empty((601,7), dtype=np.float64)\n",
    "    a_temp = np.empty((601,7), dtype=np.float64)\n",
    "    drn = np.ones((601,7), dtype=np.float64)*12.\n",
    "    \n",
    "    n=0\n",
    "    err=1.    \n",
    "    \n",
    "    while err > 1e-5 and n <= 1000:\n",
    "        dr0=drn.copy()\n",
    "        cons = (beta*(1+r) * ((drn)**(-mu)) @ trans) ** (-1/mu)\n",
    "        a_temp = (cons + a_grid - w*l_grid)/(1+r)\n",
    "        for i in range(7):\n",
    "            location = np.where(a_grid<=a_temp[0,i])\n",
    "            if location[0].shape[0]==0:\n",
    "                sup = 0\n",
    "            else:\n",
    "                sup = np.max(location[0])+1\n",
    "            drn[sup:601,i] = interpolation.interp(a_temp[:,i], cons[:,i], a_grid[sup:601,0])\n",
    "            drn[0:sup,i] = (1+r)*a_grid[0:sup,0] + w*l_grid[0,i] + phi\n",
    "    \n",
    "        if n % 5 == 0:\n",
    "            err = np.max(np.abs(drn-dr0))\n",
    "        n+=1\n",
    "    \n",
    "    fin = (1+r)*a_grid + w*l_grid - drn\n",
    "    return fin"
   ]
  },
  {
   "cell_type": "code",
   "execution_count": 14,
   "metadata": {},
   "outputs": [],
   "source": [
    "def demo_iter(a_grid, plc, pie):\n",
    "    err = 1.\n",
    "    n = 0\n",
    "    \n",
    "    demon = np.ones((601,7), dtype=np.float64) / (601*7)\n",
    "    itv = a_grid[1:601]-a_grid[0:600]\n",
    "    \n",
    "    while err > 1e-6 and n <= 1000:\n",
    "        demo = demon.copy()\n",
    "        temp = np.zeros((601*7,8), dtype=np.float64)\n",
    "        demon = np.zeros((601,7), dtype=np.float64)\n",
    "        for i in range(601):\n",
    "            for j in range(7):\n",
    "                temp[i*7+j,0]=plc[i,j]\n",
    "                temp[i*7+j,1:8]=demo[i,j] * pie[j,:]\n",
    "        \n",
    "        for k in range(600):\n",
    "            location = np.where(np.logical_and(np.greater_equal(temp[:,0],a_grid[k]), np.less_equal(temp[:,0],a_grid[k+1])))\n",
    "            l = location[0]\n",
    "            demon[k,:] = np.sum(temp[l,1:8]*(np.reshape((temp[l,0]-a_grid[k]), (-1,1))/itv[k]), axis=0) + demon[k,:]\n",
    "            demon[k+1,:] = np.sum(temp[l,1:8]*(np.reshape((a_grid[k+1]-temp[l,0]), (-1,1))/itv[k]), axis=0) + demon[k+1,:]\n",
    "        \n",
    "        if n % 10 == 0:        \n",
    "            err = np.max(np.abs(demon - demo))\n",
    "            \n",
    "        n += 1\n",
    "        \n",
    "    return demon"
   ]
  },
  {
   "cell_type": "code",
   "execution_count": 6,
   "metadata": {},
   "outputs": [],
   "source": [
    "@numba.njit\n",
    "def demo_iter(a_grid, plc, pie):\n",
    "    err = 1.\n",
    "    n = 0\n",
    "    \n",
    "    demon = np.ones((601,7), dtype=np.float64) / (601*7)\n",
    "    itv = a_grid[1:601]-a_grid[0:600]\n",
    "    \n",
    "    while err > 1e-6 and n <= 1000:\n",
    "        demo = demon.copy()\n",
    "        temp = np.zeros((601*7,8), dtype=np.float64)\n",
    "        demon = np.zeros((601,7), dtype=np.float64)\n",
    "        for i in range(601):\n",
    "            for j in range(7):\n",
    "                temp[i*7+j,0]=plc[i,j]\n",
    "                temp[i*7+j,1:8]=demo[i,j] * pie[j,:]\n",
    "        \n",
    "        for k in range(600):\n",
    "            location = np.where(np.logical_and(np.greater_equal(temp[:,0],a_grid[k]), np.less_equal(temp[:,0],a_grid[k+1])))\n",
    "            l = location[0]\n",
    "            demon[k,:] = np.sum(temp[l,1:8]*(np.reshape((temp[l,0]-a_grid[k]), (-1,1))/itv[k]), axis=0) + demon[k,:]\n",
    "            demon[k+1,:] = np.sum(temp[l,1:8]*(np.reshape((a_grid[k+1]-temp[l,0]), (-1,1))/itv[k]), axis=0) + demon[k+1,:]\n",
    "        \n",
    "        if n % 10 == 0:        \n",
    "            err = np.max(np.abs(demon - demo))\n",
    "            \n",
    "        n += 1\n",
    "        \n",
    "    return demon"
   ]
  },
  {
   "cell_type": "code",
   "execution_count": 41,
   "metadata": {},
   "outputs": [
    {
     "name": "stdout",
     "output_type": "stream",
     "text": [
      "0\n",
      "10\n",
      "0:02:24.871735\n"
     ]
    }
   ],
   "source": [
    "err = 1.\n",
    "count = 0\n",
    "r = 0.01\n",
    "\n",
    "#momentum = 0.15\n",
    "#lr = 0.001\n",
    "#decay = 0.98\n",
    "r_low=-0.04\n",
    "r_up=(1-beta)/beta\n",
    "\n",
    "start = datetime.datetime.now()\n",
    "\n",
    "l_grid_re = np.reshape(l_grid, (1,-1))\n",
    "trans = np.transpose(piel)\n",
    "\n",
    "while err >= 15e-4 and count <= 30:\n",
    "    k = (((r+delta)/(alpha * L**(1-alpha)))) ** (1/(alpha-1))\n",
    "    w = (1-alpha) * (k**alpha) * (L**(-alpha))\n",
    "    \n",
    "    if r > 0:\n",
    "        phi = min(b, w*l_min/r)\n",
    "    else:\n",
    "        phi = b\n",
    "    \n",
    "    a_grid = np.linspace(-phi, a_max, 601, dtype=np.float64)\n",
    "    a_grid_re = np.reshape(a_grid, (-1,1))\n",
    "    plc = plc_iter(phi, beta, mu, trans, r, w, a_grid_re, l_grid_re)\n",
    "    \n",
    "    demo = demo_iter(a_grid, plc, piel)\n",
    "    kprime = np.sum(demo*a_grid_re)\n",
    "    \n",
    "    err = np.abs(k - kprime)\n",
    "    if kprime < k:\n",
    "        r_low = r\n",
    "    else:\n",
    "        r_up = r\n",
    "    r = 0.5*(r_up+r_low)\n",
    "    \n",
    "    if count % 10 ==0:\n",
    "        print(count)\n",
    "    \n",
    "    count += 1\n",
    "\n",
    "end = datetime.datetime.now()\n",
    "print(end-start)"
   ]
  },
  {
   "cell_type": "code",
   "execution_count": 16,
   "metadata": {},
   "outputs": [
    {
     "data": {
      "text/plain": [
       "(6.390075882618307, 6.388724934722765, 0.03617273966471357, 1.2091523735138896)"
      ]
     },
     "execution_count": 16,
     "metadata": {},
     "output_type": "execute_result"
    }
   ],
   "source": [
    "k, kprime, r, w"
   ]
  },
  {
   "cell_type": "code",
   "execution_count": 42,
   "metadata": {},
   "outputs": [
    {
     "data": {
      "text/plain": [
       "(6.291828871221992, 6.292147120252405, 0.03732564290364587, 1.2024265355324681)"
      ]
     },
     "execution_count": 42,
     "metadata": {},
     "output_type": "execute_result"
    }
   ],
   "source": [
    "k, kprime, r, w"
   ]
  },
  {
   "cell_type": "code",
   "execution_count": 13,
   "metadata": {},
   "outputs": [
    {
     "data": {
      "text/plain": [
       "1.0773325810396563"
      ]
     },
     "execution_count": 13,
     "metadata": {},
     "output_type": "execute_result"
    }
   ],
   "source": [
    "w"
   ]
  },
  {
   "cell_type": "code",
   "execution_count": 11,
   "metadata": {},
   "outputs": [
    {
     "data": {
      "text/plain": [
       "0.06263229728210717"
      ]
     },
     "execution_count": 11,
     "metadata": {},
     "output_type": "execute_result"
    }
   ],
   "source": [
    "r"
   ]
  },
  {
   "cell_type": "code",
   "execution_count": 1,
   "metadata": {},
   "outputs": [],
   "source": []
  },
  {
   "cell_type": "code",
   "execution_count": 36,
   "metadata": {},
   "outputs": [],
   "source": [
    "test=np.where(a_grid<-6)"
   ]
  },
  {
   "cell_type": "code",
   "execution_count": 37,
   "metadata": {},
   "outputs": [
    {
     "ename": "ValueError",
     "evalue": "zero-size array to reduction operation maximum which has no identity",
     "output_type": "error",
     "traceback": [
      "\u001b[1;31m---------------------------------------------------------------------------\u001b[0m",
      "\u001b[1;31mValueError\u001b[0m                                Traceback (most recent call last)",
      "\u001b[1;32m<ipython-input-37-c0b328cdb178>\u001b[0m in \u001b[0;36m<module>\u001b[1;34m\u001b[0m\n\u001b[1;32m----> 1\u001b[1;33m \u001b[0mnp\u001b[0m\u001b[1;33m.\u001b[0m\u001b[0mmax\u001b[0m\u001b[1;33m(\u001b[0m\u001b[0mtest\u001b[0m\u001b[1;33m[\u001b[0m\u001b[1;36m0\u001b[0m\u001b[1;33m]\u001b[0m\u001b[1;33m)\u001b[0m\u001b[1;33m\u001b[0m\u001b[1;33m\u001b[0m\u001b[0m\n\u001b[0m",
      "\u001b[1;32mD:\\Programming\\Anaconda3\\lib\\site-packages\\numpy\\core\\fromnumeric.py\u001b[0m in \u001b[0;36mamax\u001b[1;34m(a, axis, out, keepdims, initial)\u001b[0m\n\u001b[0;32m   2332\u001b[0m     \"\"\"\n\u001b[0;32m   2333\u001b[0m     return _wrapreduction(a, np.maximum, 'max', axis, None, out, keepdims=keepdims,\n\u001b[1;32m-> 2334\u001b[1;33m                           initial=initial)\n\u001b[0m\u001b[0;32m   2335\u001b[0m \u001b[1;33m\u001b[0m\u001b[0m\n\u001b[0;32m   2336\u001b[0m \u001b[1;33m\u001b[0m\u001b[0m\n",
      "\u001b[1;32mD:\\Programming\\Anaconda3\\lib\\site-packages\\numpy\\core\\fromnumeric.py\u001b[0m in \u001b[0;36m_wrapreduction\u001b[1;34m(obj, ufunc, method, axis, dtype, out, **kwargs)\u001b[0m\n\u001b[0;32m     81\u001b[0m                 \u001b[1;32mreturn\u001b[0m \u001b[0mreduction\u001b[0m\u001b[1;33m(\u001b[0m\u001b[0maxis\u001b[0m\u001b[1;33m=\u001b[0m\u001b[0maxis\u001b[0m\u001b[1;33m,\u001b[0m \u001b[0mout\u001b[0m\u001b[1;33m=\u001b[0m\u001b[0mout\u001b[0m\u001b[1;33m,\u001b[0m \u001b[1;33m**\u001b[0m\u001b[0mpasskwargs\u001b[0m\u001b[1;33m)\u001b[0m\u001b[1;33m\u001b[0m\u001b[1;33m\u001b[0m\u001b[0m\n\u001b[0;32m     82\u001b[0m \u001b[1;33m\u001b[0m\u001b[0m\n\u001b[1;32m---> 83\u001b[1;33m     \u001b[1;32mreturn\u001b[0m \u001b[0mufunc\u001b[0m\u001b[1;33m.\u001b[0m\u001b[0mreduce\u001b[0m\u001b[1;33m(\u001b[0m\u001b[0mobj\u001b[0m\u001b[1;33m,\u001b[0m \u001b[0maxis\u001b[0m\u001b[1;33m,\u001b[0m \u001b[0mdtype\u001b[0m\u001b[1;33m,\u001b[0m \u001b[0mout\u001b[0m\u001b[1;33m,\u001b[0m \u001b[1;33m**\u001b[0m\u001b[0mpasskwargs\u001b[0m\u001b[1;33m)\u001b[0m\u001b[1;33m\u001b[0m\u001b[1;33m\u001b[0m\u001b[0m\n\u001b[0m\u001b[0;32m     84\u001b[0m \u001b[1;33m\u001b[0m\u001b[0m\n\u001b[0;32m     85\u001b[0m \u001b[1;33m\u001b[0m\u001b[0m\n",
      "\u001b[1;31mValueError\u001b[0m: zero-size array to reduction operation maximum which has no identity"
     ]
    }
   ],
   "source": [
    "np.max(test[0])"
   ]
  },
  {
   "cell_type": "code",
   "execution_count": 39,
   "metadata": {},
   "outputs": [
    {
     "data": {
      "text/plain": [
       "0"
      ]
     },
     "execution_count": 39,
     "metadata": {},
     "output_type": "execute_result"
    }
   ],
   "source": [
    "test[0].shape[0]"
   ]
  },
  {
   "cell_type": "code",
   "execution_count": null,
   "metadata": {},
   "outputs": [],
   "source": []
  }
 ],
 "metadata": {
  "kernelspec": {
   "display_name": "Python 3",
   "language": "python",
   "name": "python3"
  },
  "language_info": {
   "codemirror_mode": {
    "name": "ipython",
    "version": 3
   },
   "file_extension": ".py",
   "mimetype": "text/x-python",
   "name": "python",
   "nbconvert_exporter": "python",
   "pygments_lexer": "ipython3",
   "version": "3.7.1"
  }
 },
 "nbformat": 4,
 "nbformat_minor": 2
}
