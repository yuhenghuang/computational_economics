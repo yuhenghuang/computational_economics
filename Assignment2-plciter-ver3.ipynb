{
 "cells": [
  {
   "cell_type": "code",
   "execution_count": 1,
   "metadata": {},
   "outputs": [],
   "source": [
    "import numpy as np\n",
    "import numba\n",
    "import quantecon as qe\n",
    "import matplotlib.pyplot as plt\n",
    "import datetime\n",
    "import interpolation"
   ]
  },
  {
   "cell_type": "code",
   "execution_count": 2,
   "metadata": {},
   "outputs": [],
   "source": [
    "beta=0.96\n",
    "alpha=0.36\n",
    "delta=0.08\n",
    "a_max = 40.\n",
    "b=3."
   ]
  },
  {
   "cell_type": "code",
   "execution_count": 21,
   "metadata": {},
   "outputs": [],
   "source": [
    "#rho=0.4\n",
    "rho=0.6\n",
    "\n",
    "#mu=0\n",
    "mu=3.\n",
    "#mu=5\n",
    "\n",
    "#sigma=0.4\n",
    "sigma=0.4"
   ]
  },
  {
   "cell_type": "code",
   "execution_count": 22,
   "metadata": {},
   "outputs": [],
   "source": [
    "x = qe.markov.approximation.tauchen(rho,sigma*(1-rho**2)**0.5, m = 3,n = 7)\n",
    "l_grid = np.exp(x.state_values)\n",
    "l_dis = x.stationary_distributions\n",
    "L = np.sum(l_grid * l_dis)\n",
    "l_min=l_grid[0]\n",
    "piel = x.P"
   ]
  },
  {
   "cell_type": "code",
   "execution_count": 5,
   "metadata": {},
   "outputs": [],
   "source": [
    "@numba.guvectorize(['f8[:,:],f8[:,:],f8,f8,f8,f8[:,:],f8[:,:],f8[:,:]'], \n",
    "            '(m,l),(l,n),(),(),(),(m,n),(m,n)->(m,n)', nopython=True)\n",
    "def plc_inner(a_grid, l_grid, phi, r, w, a_temp, cons, drn):\n",
    "    for i in range(7):\n",
    "        location = np.where(a_grid<=a_temp[0,i])\n",
    "        if location[0].shape[0]==0:\n",
    "            sup = 0\n",
    "        else:\n",
    "            sup = np.max(location[0])+1\n",
    "        drn[sup:601,i] = interpolation.interp(a_temp[:,i], cons[:,i], a_grid[sup:601,0])\n",
    "        drn[0:sup,i] = (1+r)*a_grid[0:sup,0] + w*l_grid[0,i] + phi"
   ]
  },
  {
   "cell_type": "code",
   "execution_count": 6,
   "metadata": {},
   "outputs": [],
   "source": [
    "@numba.njit\n",
    "def plc_c_a(beta, r, w, mu, trans, a_grid, l_grid, drn):\n",
    "    cons = (beta*(1+r) * ((drn)**(-mu)) @ trans) ** (-1/mu)\n",
    "    a_temp = (cons + a_grid - w*l_grid)/(1+r) \n",
    "    return cons, a_temp"
   ]
  },
  {
   "cell_type": "code",
   "execution_count": 7,
   "metadata": {},
   "outputs": [],
   "source": [
    "def plc_iter(phi, beta, mu, trans, r, w, a_grid, l_grid):\n",
    "    \n",
    "    cons = np.empty((601,7), dtype=np.float64)\n",
    "    a_temp = np.empty((601,7), dtype=np.float64)\n",
    "    drn = np.ones((601,7), dtype=np.float64)*12.\n",
    "    \n",
    "    n=0\n",
    "    err=1.    \n",
    "    \n",
    "    while err > 1e-5 and n <= 1000:\n",
    "        dr0=drn.copy()\n",
    "        cons, a_temp = plc_c_a(beta, r, w, mu, trans, a_grid, l_grid, drn)\n",
    "        drn = plc_inner(a_grid, l_grid, phi, r, w, a_temp, cons, drn)\n",
    "    \n",
    "        if n % 5 == 0:\n",
    "            err = np.max(np.abs(drn-dr0))\n",
    "        n+=1\n",
    "    \n",
    "    fin = (1+r)*a_grid + w*l_grid - drn\n",
    "    return fin"
   ]
  },
  {
   "cell_type": "code",
   "execution_count": 8,
   "metadata": {},
   "outputs": [],
   "source": [
    "@numba.guvectorize(['f8[:,:],f8[:,:],f8[:,:],f8[:,:],f8[:,:]'],\n",
    "                  '(j,k),(m,n),(m,n),(n,n)->(j,k)', nopython=True)\n",
    "def demo_temp(temp0, plc, demo, pie, temp):\n",
    "    for i in range(601):\n",
    "        for j in range(7):\n",
    "            temp[i*7+j,0]=plc[i,j]\n",
    "            temp[i*7+j,1:8]=demo[i,j] * pie[j,:]"
   ]
  },
  {
   "cell_type": "code",
   "execution_count": 9,
   "metadata": {},
   "outputs": [],
   "source": [
    "@numba.guvectorize(['f8[:,:],f8[:,:], f8[:], f8[:], f8[:,:]'],\n",
    "                  '(n,n),(j,k),(m),(l)->(m,n)', nopython=True)\n",
    "def demo_inner(pie, temp, a_grid, itv, demon):\n",
    "    for k in range(600):\n",
    "        location = np.where(np.logical_and(np.greater_equal(temp[:,0],a_grid[k]), np.less_equal(temp[:,0],a_grid[k+1])))\n",
    "        l=location[0]\n",
    "        demon[k,:] = np.sum(temp[l,1:8]*(np.reshape((temp[l,0]-a_grid[k]), (-1,1))/itv[k]), axis=0) + demon[k,:]\n",
    "        demon[k+1,:] = np.sum(temp[l,1:8]*(np.reshape((a_grid[k+1]-temp[l,0]), (-1,1))/itv[k]), axis=0) + demon[k+1,:]"
   ]
  },
  {
   "cell_type": "code",
   "execution_count": 10,
   "metadata": {},
   "outputs": [],
   "source": [
    "def demo_iter(a_grid, plc, pie):\n",
    "    err = 1.\n",
    "    n = 0\n",
    "    \n",
    "    demon = np.ones((601,7), dtype=np.float64) / (601*7)\n",
    "    itv = a_grid[1:601]-a_grid[0:600]\n",
    "    temp0 = np.empty((601*7,8), dtype=np.float64)\n",
    "    temp=temp0.copy()\n",
    "    \n",
    "    while err > 1e-6 and n <= 1000:\n",
    "        demo = demon.copy()\n",
    "        demon = np.zeros((601,7), dtype=np.float64)\n",
    "        temp = demo_temp(temp0, plc, demo, pie, temp)\n",
    "        demon = demo_inner(pie, temp, a_grid, itv, demon)\n",
    "        \n",
    "        if n % 10 == 0:        \n",
    "            err = np.max(np.abs(demon - demo))\n",
    "            \n",
    "        n += 1\n",
    "        \n",
    "    return demon"
   ]
  },
  {
   "cell_type": "code",
   "execution_count": 11,
   "metadata": {},
   "outputs": [],
   "source": [
    "l_grid_re = np.reshape(l_grid, (1,-1))\n",
    "trans = np.transpose(piel)\n",
    "\n",
    "ps3=np.empty((20,3), dtype=np.float64)\n",
    "ps3[:,0]=np.linspace(-0.04, (1-beta)/beta, 20)\n",
    "\n",
    "for i in range(20):\n",
    "    r=ps3[i,0]\n",
    "    k = (((r+delta)/(alpha * L**(1-alpha)))) ** (1/(alpha-1))\n",
    "    ps3[i,1]=k\n",
    "    w = (1-alpha) * (k**alpha) * (L**(-alpha))\n",
    "    \n",
    "    if r > 0:\n",
    "        phi = min(b, w*l_min/r)\n",
    "    else:\n",
    "        phi = b\n",
    "    \n",
    "    a_grid = (np.linspace(0, 1, 601, dtype=np.float64)**2)*(phi+a_max)-phi\n",
    "    a_grid_re = np.reshape(a_grid, (-1,1))\n",
    "    plc = plc_iter(phi, beta, mu, trans, r, w, a_grid_re, l_grid_re)\n",
    "    plc = np.clip(plc ,-phi, a_max)\n",
    "    \n",
    "    demo = demo_iter(a_grid, plc, piel)\n",
    "    ps3[i,2] = np.sum(demo*plc)"
   ]
  },
  {
   "cell_type": "code",
   "execution_count": 18,
   "metadata": {},
   "outputs": [
    {
     "data": {
      "image/png": "[encoded data removed]",
      "text/plain": [
       "<Figure size 432x288 with 1 Axes>"
      ]
     },
     "metadata": {
      "needs_background": "light"
     },
     "output_type": "display_data"
    }
   ],
   "source": [
    "fig, ax = plt.subplots()\n",
    "ax.plot(ps3[:,2], ps3[:,0], label='Ea(r)')\n",
    "ax.plot(ps3[:,1], ps3[:,0], label='K(r)')\n",
    "ax.set_title(\"Steady-State Determination\")\n",
    "ax.set_xlabel('a')\n",
    "\n",
    "legend = ax.legend(loc='right', shadow=True, fontsize='x-large')\n",
    "\n",
    "legend.get_frame()\n",
    "fig.savefig('A2_graphs/ss_dtm_pl.png', dpi=500)"
   ]
  },
  {
   "cell_type": "code",
   "execution_count": 23,
   "metadata": {},
   "outputs": [
    {
     "name": "stdout",
     "output_type": "stream",
     "text": [
      "0\n",
      "5\n",
      "0:00:21.421725\n"
     ]
    }
   ],
   "source": [
    "err = 1.\n",
    "count = 0\n",
    "r = 0.01\n",
    "\n",
    "l_grid_re = np.reshape(l_grid, (1,-1))\n",
    "trans = np.transpose(piel)\n",
    "\n",
    "#momentum = 0.15\n",
    "#lr = 0.001\n",
    "#decay = 0.98\n",
    "r_low=-0.04\n",
    "r_up=(1-beta)/beta\n",
    "\n",
    "start = datetime.datetime.now()\n",
    "\n",
    "while err >= 15e-4 and count <= 16:\n",
    "    k = (((r+delta)/(alpha * L**(1-alpha)))) ** (1/(alpha-1))\n",
    "    w = (1-alpha) * (k**alpha) * (L**(-alpha))\n",
    "    \n",
    "    if r > 0:\n",
    "        phi = min(b, w*l_min/r)\n",
    "    else:\n",
    "        phi = b\n",
    "    \n",
    "    a_grid = (np.linspace(0, 1, 601, dtype=np.float64)**2)*(phi+a_max)-phi\n",
    "    a_grid_re = np.reshape(a_grid, (-1,1))\n",
    "    plc = plc_iter(phi, beta, mu, trans, r, w, a_grid_re, l_grid_re)\n",
    "    plc = np.clip(plc ,-phi, a_max)\n",
    "    \n",
    "    demo = demo_iter(a_grid, plc, piel)\n",
    "    kprime = np.sum(demo*plc)\n",
    "    \n",
    "    err = np.abs(k - kprime)\n",
    "    if kprime < k:\n",
    "        r_low = r\n",
    "    else:\n",
    "        r_up = r\n",
    "    r = 0.5*(r_up+r_low)\n",
    "    \n",
    "    if count % 5 ==0:\n",
    "        print(count)\n",
    "    \n",
    "    count += 1\n",
    "\n",
    "end = datetime.datetime.now()\n",
    "print(end-start)"
   ]
  },
  {
   "cell_type": "code",
   "execution_count": 16,
   "metadata": {},
   "outputs": [
    {
     "data": {
      "text/plain": [
       "(6.390075882618307, 6.388724934722765, 0.03617273966471357, 1.2091523735138896)"
      ]
     },
     "execution_count": 16,
     "metadata": {},
     "output_type": "execute_result"
    }
   ],
   "source": [
    "k, kprime, r, w"
   ]
  },
  {
   "cell_type": "code",
   "execution_count": 24,
   "metadata": {},
   "outputs": [
    {
     "data": {
      "text/plain": [
       "(6.6814216025224376, 6.682448314950925, 0.03303873697916669, 1.227701973609213)"
      ]
     },
     "execution_count": 24,
     "metadata": {},
     "output_type": "execute_result"
    }
   ],
   "source": [
    "k, kprime, r, w"
   ]
  },
  {
   "cell_type": "code",
   "execution_count": 20,
   "metadata": {},
   "outputs": [
    {
     "data": {
      "text/plain": [
       "(601, 7)"
      ]
     },
     "execution_count": 20,
     "metadata": {},
     "output_type": "execute_result"
    }
   ],
   "source": []
  },
  {
   "cell_type": "code",
   "execution_count": null,
   "metadata": {},
   "outputs": [],
   "source": []
  }
 ],
 "metadata": {
  "kernelspec": {
   "display_name": "Python 3",
   "language": "python",
   "name": "python3"
  },
  "language_info": {
   "codemirror_mode": {
    "name": "ipython",
    "version": 3
   },
   "file_extension": ".py",
   "mimetype": "text/x-python",
   "name": "python",
   "nbconvert_exporter": "python",
   "pygments_lexer": "ipython3",
   "version": "3.7.1"
  }
 },
 "nbformat": 4,
 "nbformat_minor": 2
}
